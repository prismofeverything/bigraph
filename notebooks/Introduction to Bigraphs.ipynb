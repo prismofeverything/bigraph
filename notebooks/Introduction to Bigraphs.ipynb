{
 "cells": [
  {
   "cell_type": "markdown",
   "id": "bef039a4",
   "metadata": {
    "slideshow": {
     "slide_type": "slide"
    }
   },
   "source": [
    "# Introduction to Bigraphs\n",
    "\n",
    "Bigraphs were invented by Robin Milner as an extension/generalization of previous process calculi (some of which he invented as well). A process calculus is a way to formally model concurrent and distributed systems, including communication/interactions/synchronizations, along with a set of algebraic laws to reason about them. \n",
    "\n",
    "![bigraph](img/first-bigraph.png)"
   ]
  },
  {
   "cell_type": "markdown",
   "id": "321dd691",
   "metadata": {
    "slideshow": {
     "slide_type": "slide"
    }
   },
   "source": [
    "## space\n",
    "\n",
    "The structure of a bigraph is defined as two superimposed graphs over a single set of nodes \n",
    "- *place* graph (forest) which is modeled as a tree\n",
    "- *link* graph (hypergraph) which is a set of hyperedges \n",
    "\n",
    "![bare bigraph](img/bare-bigraph.png)"
   ]
  },
  {
   "cell_type": "markdown",
   "id": "cbc5e7b7",
   "metadata": {
    "slideshow": {
     "slide_type": "subslide"
    }
   },
   "source": [
    "### place graph\n",
    "\n",
    "The place graph represents the relative _location_ of each node (in terms of containment).\n",
    "\n",
    "![forest](img/bigraph-and-forest.png)"
   ]
  },
  {
   "cell_type": "markdown",
   "id": "02be963e",
   "metadata": {
    "slideshow": {
     "slide_type": "subslide"
    }
   },
   "source": [
    "### link graph\n",
    "\n",
    "The link graph represents communication across place boundaries, ie common signals that all linked nodes share.  \n",
    "\n",
    "![hypergraph](img/bigraph-and-hypergraph.png)"
   ]
  },
  {
   "cell_type": "markdown",
   "id": "6eb1d479",
   "metadata": {
    "slideshow": {
     "slide_type": "subslide"
    }
   },
   "source": [
    "![anatomy](img/anatomy-of-bigraphs.png)"
   ]
  },
  {
   "cell_type": "markdown",
   "id": "4a005b67",
   "metadata": {
    "slideshow": {
     "slide_type": "slide"
    }
   },
   "source": [
    "## motion\n",
    "\n",
    "The \"motion\" of a bigraph is accomplished by _reaction rules_, which specify a `redex` showing a bigraph to match and `reactum` that shows the bigraph to replace it by. \n",
    "\n",
    "Here is an example bigraph (showing the system in a \"locked\" state): ![locked](img/reaction-locked.png)"
   ]
  },
  {
   "cell_type": "markdown",
   "id": "4ea1224b",
   "metadata": {
    "slideshow": {
     "slide_type": "subslide"
    }
   },
   "source": [
    "### redex\n",
    "\n",
    "When we take that bigraph and match it with this **redex**\n",
    "\n",
    "![redex](img/reaction-redex.png)"
   ]
  },
  {
   "cell_type": "markdown",
   "id": "55198ae4",
   "metadata": {
    "slideshow": {
     "slide_type": "subslide"
    }
   },
   "source": [
    "### reactum\n",
    "\n",
    "and substitute with this **reactum**\n",
    "\n",
    "![reactum](img/reaction-reactum.png)"
   ]
  },
  {
   "cell_type": "markdown",
   "id": "01070699",
   "metadata": {
    "slideshow": {
     "slide_type": "subslide"
    }
   },
   "source": [
    "### transition\n",
    "\n",
    "we end up with this result (the key has been \"unlocked\"):\n",
    "\n",
    "![unlocked](img/reaction-unlocked.png)"
   ]
  },
  {
   "cell_type": "markdown",
   "id": "0dde971d",
   "metadata": {
    "slideshow": {
     "slide_type": "subslide"
    }
   },
   "source": [
    "### full reaction\n",
    "\n",
    "Here is the full reaction from locked to unlocked state:\n",
    "\n",
    "![reaction](img/reaction-example.png)"
   ]
  },
  {
   "cell_type": "code",
   "execution_count": 1,
   "id": "a386d25e",
   "metadata": {
    "slideshow": {
     "slide_type": "skip"
    }
   },
   "outputs": [],
   "source": [
    "import os\n",
    "os.chdir('../bigraph')\n",
    "from bigraph import Bigraph, Control, Node, Edge, Parallel, Merge, Big, InGroup, Condition, Reaction, Range, Assign, Init, Param, RuleGroup, Rules, Preds, System, BigraphicalReactiveSystem\n",
    "from parse import bigraph"
   ]
  },
  {
   "cell_type": "markdown",
   "id": "06f2c4bc",
   "metadata": {
    "slideshow": {
     "slide_type": "slide"
    }
   },
   "source": [
    "## operations\n",
    "\n",
    "You can build complex bigraphs out of simpler bigraphs using the basic operations:\n",
    "* A.B - *nest* (nesting B inside A)\n",
    "* A | B - *merge* (side by side, but in the same region)\n",
    "* A || B - *parallel* (side by side, different regions)\n",
    "* A{b} - *link* (A is linked to edge b)\n",
    "* A(b) - *parameterize* (A has parameter b)"
   ]
  },
  {
   "cell_type": "markdown",
   "id": "dc0965ab",
   "metadata": {
    "slideshow": {
     "slide_type": "slide"
    }
   },
   "source": [
    "## python API\n",
    "\n",
    "You can parse bigraphs from strings into python objects, and you can also build up bigraphs programmatically using the python API. The basic operations are available:"
   ]
  },
  {
   "cell_type": "markdown",
   "id": "fd7bc827",
   "metadata": {
    "slideshow": {
     "slide_type": "subslide"
    }
   },
   "source": [
    "### nest"
   ]
  },
  {
   "cell_type": "code",
   "execution_count": 2,
   "id": "6ba41252",
   "metadata": {
    "slideshow": {
     "slide_type": "-"
    }
   },
   "outputs": [
    {
     "data": {
      "text/plain": [
       "A.B"
      ]
     },
     "execution_count": 2,
     "metadata": {},
     "output_type": "execute_result"
    }
   ],
   "source": [
    "A = bigraph('A')\n",
    "B = bigraph('B')\n",
    "A.nest(B)"
   ]
  },
  {
   "cell_type": "markdown",
   "id": "a61d6275",
   "metadata": {
    "slideshow": {
     "slide_type": "subslide"
    }
   },
   "source": [
    "### merge"
   ]
  },
  {
   "cell_type": "code",
   "execution_count": 3,
   "id": "1725e2f9",
   "metadata": {
    "slideshow": {
     "slide_type": "-"
    }
   },
   "outputs": [
    {
     "data": {
      "text/plain": [
       "A | B"
      ]
     },
     "execution_count": 3,
     "metadata": {},
     "output_type": "execute_result"
    }
   ],
   "source": [
    "A = bigraph('A')\n",
    "B = bigraph('B')\n",
    "Merge([A, B])"
   ]
  },
  {
   "cell_type": "markdown",
   "id": "ec651c2c",
   "metadata": {
    "slideshow": {
     "slide_type": "subslide"
    }
   },
   "source": [
    "### parallel"
   ]
  },
  {
   "cell_type": "code",
   "execution_count": 4,
   "id": "bb8455ac",
   "metadata": {
    "slideshow": {
     "slide_type": "-"
    }
   },
   "outputs": [
    {
     "data": {
      "text/plain": [
       "A || B"
      ]
     },
     "execution_count": 4,
     "metadata": {},
     "output_type": "execute_result"
    }
   ],
   "source": [
    "A = bigraph('A')\n",
    "B = bigraph('B')\n",
    "Parallel([A, B])"
   ]
  },
  {
   "cell_type": "markdown",
   "id": "78e906fc",
   "metadata": {
    "slideshow": {
     "slide_type": "subslide"
    }
   },
   "source": [
    "### link"
   ]
  },
  {
   "cell_type": "code",
   "execution_count": 5,
   "id": "3c95eb9a",
   "metadata": {
    "slideshow": {
     "slide_type": "-"
    }
   },
   "outputs": [
    {
     "data": {
      "text/plain": [
       "A{b}"
      ]
     },
     "execution_count": 5,
     "metadata": {},
     "output_type": "execute_result"
    }
   ],
   "source": [
    "A = bigraph('A')\n",
    "b = Edge('b')\n",
    "A.link(b)"
   ]
  },
  {
   "cell_type": "markdown",
   "id": "71f92f0a",
   "metadata": {
    "slideshow": {
     "slide_type": "slide"
    }
   },
   "source": [
    "### parsing\n",
    "\n",
    "To parse a bigraph from a string, use the `bigraph` function:"
   ]
  },
  {
   "cell_type": "code",
   "execution_count": 6,
   "id": "5eeb8bdd",
   "metadata": {
    "slideshow": {
     "slide_type": "fragment"
    }
   },
   "outputs": [
    {
     "data": {
      "text/plain": [
       "A.(B | C{m,n})"
      ]
     },
     "execution_count": 6,
     "metadata": {},
     "output_type": "execute_result"
    }
   ],
   "source": [
    "parsed = bigraph('A.(B | C{m, n})')\n",
    "parsed"
   ]
  },
  {
   "cell_type": "markdown",
   "id": "c5885635",
   "metadata": {
    "slideshow": {
     "slide_type": "fragment"
    }
   },
   "source": [
    "The python bigraph objects are rendered by default, which mirrors the original form we parsed. "
   ]
  },
  {
   "cell_type": "markdown",
   "id": "36514878",
   "metadata": {
    "slideshow": {
     "slide_type": "subslide"
    }
   },
   "source": [
    "We can also build this bigraph programmatically."
   ]
  },
  {
   "cell_type": "code",
   "execution_count": 7,
   "id": "31c859f2",
   "metadata": {
    "slideshow": {
     "slide_type": "fragment"
    }
   },
   "outputs": [
    {
     "data": {
      "text/plain": [
       "(A, B, C)"
      ]
     },
     "execution_count": 7,
     "metadata": {},
     "output_type": "execute_result"
    }
   ],
   "source": [
    "A = bigraph('A')\n",
    "B = bigraph('B')\n",
    "C = bigraph('C')\n",
    "A, B, C"
   ]
  },
  {
   "cell_type": "code",
   "execution_count": 8,
   "id": "a30d9f9f",
   "metadata": {
    "slideshow": {
     "slide_type": "fragment"
    }
   },
   "outputs": [
    {
     "data": {
      "text/plain": [
       "C{m,n}"
      ]
     },
     "execution_count": 8,
     "metadata": {},
     "output_type": "execute_result"
    }
   ],
   "source": [
    "C.link('m')\n",
    "C.link('n')\n",
    "C"
   ]
  },
  {
   "cell_type": "code",
   "execution_count": 9,
   "id": "7ab6226d",
   "metadata": {
    "slideshow": {
     "slide_type": "fragment"
    }
   },
   "outputs": [
    {
     "data": {
      "text/plain": [
       "B | C{m,n}"
      ]
     },
     "execution_count": 9,
     "metadata": {},
     "output_type": "execute_result"
    }
   ],
   "source": [
    "merge = B.merge(C)\n",
    "merge"
   ]
  },
  {
   "cell_type": "code",
   "execution_count": 10,
   "id": "a3fe9a24",
   "metadata": {
    "slideshow": {
     "slide_type": "fragment"
    }
   },
   "outputs": [
    {
     "data": {
      "text/plain": [
       "A.(B | C{m,n})"
      ]
     },
     "execution_count": 10,
     "metadata": {},
     "output_type": "execute_result"
    }
   ],
   "source": [
    "A.nest(merge)\n",
    "A"
   ]
  },
  {
   "cell_type": "markdown",
   "id": "fcadd591",
   "metadata": {
    "slideshow": {
     "slide_type": "skip"
    }
   },
   "source": [
    "TODO: show rendered results from running the system\n",
    "\n",
    "TODO: render bigraphs in a nested way"
   ]
  },
  {
   "cell_type": "markdown",
   "id": "47a81c72",
   "metadata": {
    "slideshow": {
     "slide_type": "slide"
    }
   },
   "source": [
    "## controls\n",
    "\n",
    "Controls are a way to label nodes, giving it a kind of \"type\" which declares:\n",
    "- **symbol** - the label given by this control\n",
    "- **arity** - how many ports it has (where edges can connect)\n",
    "- **fun** - any parameters nodes of this control may have\n",
    "- **atomic** - whether it can have subnodes or not"
   ]
  },
  {
   "cell_type": "markdown",
   "id": "959947bf",
   "metadata": {
    "slideshow": {
     "slide_type": "fragment"
    }
   },
   "source": [
    "Here is an example of a control with an arity of 2:"
   ]
  },
  {
   "cell_type": "code",
   "execution_count": 11,
   "id": "00916887",
   "metadata": {},
   "outputs": [
    {
     "data": {
      "text/plain": [
       "('A', 2)"
      ]
     },
     "execution_count": 11,
     "metadata": {},
     "output_type": "execute_result"
    }
   ],
   "source": [
    "A = bigraph('ctrl A = 2')\n",
    "A.symbol, A.arity"
   ]
  },
  {
   "cell_type": "markdown",
   "id": "72ea731d",
   "metadata": {
    "slideshow": {
     "slide_type": "fragment"
    }
   },
   "source": [
    "Here is another control with named parameters:"
   ]
  },
  {
   "cell_type": "code",
   "execution_count": 12,
   "id": "88c324bb",
   "metadata": {},
   "outputs": [
    {
     "data": {
      "text/plain": [
       "('Compartment', 1, ('volume', 'state'))"
      ]
     },
     "execution_count": 12,
     "metadata": {},
     "output_type": "execute_result"
    }
   ],
   "source": [
    "C = bigraph('fun ctrl Compartment(volume, state) = 1')\n",
    "C.symbol, C.arity, C.fun"
   ]
  },
  {
   "cell_type": "markdown",
   "id": "36127a85",
   "metadata": {
    "slideshow": {
     "slide_type": "subslide"
    }
   },
   "source": [
    "### nodes and controls\n",
    "\n",
    "Controls give us a more principled way to create nodes, and provide a way to structure our systems and guide reactions to target specific elements."
   ]
  },
  {
   "cell_type": "code",
   "execution_count": 13,
   "id": "6ea84422",
   "metadata": {
    "slideshow": {
     "slide_type": "fragment"
    }
   },
   "outputs": [
    {
     "data": {
      "text/plain": [
       "(Compartment(0.3,stable){atp}, Compartment(11.1111,active){chromosome})"
      ]
     },
     "execution_count": 13,
     "metadata": {},
     "output_type": "execute_result"
    }
   ],
   "source": [
    "C1 = Node(control=C, params=(0.3, \"stable\"), ports=('atp',))\n",
    "C2 = Node(control=C, params=(11.1111, \"active\"), ports=('chromosome',))\n",
    "C1, C2"
   ]
  },
  {
   "cell_type": "markdown",
   "id": "c81b78e0",
   "metadata": {
    "slideshow": {
     "slide_type": "fragment"
    }
   },
   "source": [
    "We can even assign parameters this way"
   ]
  },
  {
   "cell_type": "code",
   "execution_count": 16,
   "id": "af22642b",
   "metadata": {},
   "outputs": [
    {
     "data": {
      "text/plain": [
       "Compartment(0.4,stable){atp}"
      ]
     },
     "execution_count": 16,
     "metadata": {},
     "output_type": "execute_result"
    }
   ],
   "source": [
    "C1.assign('volume', 0.4)"
   ]
  },
  {
   "cell_type": "markdown",
   "id": "ab64c58b",
   "metadata": {
    "slideshow": {
     "slide_type": "slide"
    }
   },
   "source": [
    "## reactions"
   ]
  },
  {
   "cell_type": "code",
   "execution_count": 15,
   "id": "17a63bdc",
   "metadata": {
    "slideshow": {
     "slide_type": "skip"
    }
   },
   "outputs": [
    {
     "ename": "NameError",
     "evalue": "name 'visualize' is not defined",
     "output_type": "error",
     "traceback": [
      "\u001b[0;31m---------------------------------------------------------------------------\u001b[0m",
      "\u001b[0;31mNameError\u001b[0m                                 Traceback (most recent call last)",
      "Input \u001b[0;32mIn [15]\u001b[0m, in \u001b[0;36m<cell line: 1>\u001b[0;34m()\u001b[0m\n\u001b[0;32m----> 1\u001b[0m \u001b[43mvisualize\u001b[49m(A)\n",
      "\u001b[0;31mNameError\u001b[0m: name 'visualize' is not defined"
     ]
    }
   ],
   "source": [
    "visualize(A) # TODO figure out how to return a svg/png"
   ]
  },
  {
   "cell_type": "markdown",
   "id": "d61b2804",
   "metadata": {
    "slideshow": {
     "slide_type": "subslide"
    }
   },
   "source": [
    "### specifying reaction rules\n",
    "\n"
   ]
  },
  {
   "cell_type": "markdown",
   "id": "cc62c908",
   "metadata": {
    "slideshow": {
     "slide_type": "subslide"
    }
   },
   "source": [
    "### applying a reaction rule to a bigraph"
   ]
  },
  {
   "cell_type": "markdown",
   "id": "16e0c570",
   "metadata": {
    "slideshow": {
     "slide_type": "slide"
    }
   },
   "source": [
    "## reactive systems"
   ]
  },
  {
   "cell_type": "markdown",
   "id": "7f283029",
   "metadata": {
    "slideshow": {
     "slide_type": "subslide"
    }
   },
   "source": [
    "### declaring a reactive system"
   ]
  },
  {
   "cell_type": "markdown",
   "id": "26771714",
   "metadata": {
    "slideshow": {
     "slide_type": "subslide"
    }
   },
   "source": [
    "### execute the system"
   ]
  },
  {
   "cell_type": "markdown",
   "id": "1ce059ef",
   "metadata": {
    "slideshow": {
     "slide_type": "subslide"
    }
   },
   "source": [
    "### observing the transitions"
   ]
  }
 ],
 "metadata": {
  "celltoolbar": "Slideshow",
  "kernelspec": {
   "display_name": "Python 3 (ipykernel)",
   "language": "python",
   "name": "python3"
  },
  "language_info": {
   "codemirror_mode": {
    "name": "ipython",
    "version": 3
   },
   "file_extension": ".py",
   "mimetype": "text/x-python",
   "name": "python",
   "nbconvert_exporter": "python",
   "pygments_lexer": "ipython3",
   "version": "3.8.5"
  }
 },
 "nbformat": 4,
 "nbformat_minor": 5
}
