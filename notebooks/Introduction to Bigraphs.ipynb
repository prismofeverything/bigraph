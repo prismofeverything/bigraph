{
 "cells": [
  {
   "cell_type": "markdown",
   "id": "bef039a4",
   "metadata": {
    "slideshow": {
     "slide_type": "slide"
    }
   },
   "source": [
    "# Introduction to Bigraphs\n",
    "\n",
    "Bigraphs were invented by Robin Milner as an extension/generalization of previous process calculi (some of which he invented as well). A [process calculus](https://en.wikipedia.org/wiki/Process_calculus) is a way to formally model concurrent and distributed systems, including communication/interactions/synchronizations, along with a set of algebraic laws to reason about them. \n",
    "\n",
    "![bigraph](img/first-bigraph.png)"
   ]
  },
  {
   "cell_type": "markdown",
   "id": "1c74ce3f",
   "metadata": {
    "slideshow": {
     "slide_type": "slide"
    }
   },
   "source": [
    "## space\n",
    "\n",
    "The structure of a bigraph is defined as two superimposed graphs over a single set of nodes \n",
    "- *place* graph (forest) which is modeled as a tree\n",
    "- *link* graph (hypergraph) which is a set of hyperedges \n",
    "\n",
    "![bare bigraph](img/bare-bigraph.png)"
   ]
  },
  {
   "cell_type": "markdown",
   "id": "c2edec0a",
   "metadata": {
    "slideshow": {
     "slide_type": "subslide"
    }
   },
   "source": [
    "### place graph\n",
    "\n",
    "The place graph represents the relative _location_ of each node (in terms of containment).\n",
    "\n",
    "![forest](img/bigraph-and-forest.png)"
   ]
  },
  {
   "cell_type": "markdown",
   "id": "da64aa4c",
   "metadata": {
    "slideshow": {
     "slide_type": "subslide"
    }
   },
   "source": [
    "### link graph\n",
    "\n",
    "The link graph represents communication across place boundaries, ie common signals that all linked nodes share.  \n",
    "\n",
    "![hypergraph](img/bigraph-and-hypergraph.png)"
   ]
  },
  {
   "cell_type": "markdown",
   "id": "ab07b998",
   "metadata": {
    "slideshow": {
     "slide_type": "subslide"
    }
   },
   "source": [
    "![anatomy](img/anatomy-of-bigraphs.png)"
   ]
  },
  {
   "cell_type": "markdown",
   "id": "202eafa2",
   "metadata": {
    "slideshow": {
     "slide_type": "slide"
    }
   },
   "source": [
    "## motion\n",
    "\n",
    "The \"motion\" of a bigraph is accomplished by _reaction rules_, which specify a `redex` showing a bigraph to match and `reactum` that shows the bigraph to replace it by. \n",
    "\n",
    "Here is an example bigraph (showing the system in a \"locked\" state): ![locked](img/reaction-locked.png)"
   ]
  },
  {
   "cell_type": "markdown",
   "id": "2a37daef",
   "metadata": {
    "slideshow": {
     "slide_type": "subslide"
    }
   },
   "source": [
    "### redex\n",
    "\n",
    "When we take that bigraph and match it with this **redex**\n",
    "\n",
    "![redex](img/reaction-redex.png)"
   ]
  },
  {
   "cell_type": "markdown",
   "id": "b38a9ecb",
   "metadata": {
    "slideshow": {
     "slide_type": "subslide"
    }
   },
   "source": [
    "### reactum\n",
    "\n",
    "and substitute with this **reactum**\n",
    "\n",
    "![reactum](img/reaction-reactum.png)"
   ]
  },
  {
   "cell_type": "markdown",
   "id": "010eb7a6",
   "metadata": {
    "slideshow": {
     "slide_type": "subslide"
    }
   },
   "source": [
    "### transition\n",
    "\n",
    "we end up with this result (the key has been \"unlocked\"):\n",
    "\n",
    "![unlocked](img/reaction-unlocked.png)"
   ]
  },
  {
   "cell_type": "markdown",
   "id": "d4b36e79",
   "metadata": {
    "slideshow": {
     "slide_type": "subslide"
    }
   },
   "source": [
    "### full reaction\n",
    "\n",
    "Here is the full reaction from locked to unlocked state:\n",
    "\n",
    "![reaction](img/reaction-example.png)"
   ]
  },
  {
   "cell_type": "code",
   "execution_count": 1,
   "id": "a386d25e",
   "metadata": {
    "slideshow": {
     "slide_type": "skip"
    }
   },
   "outputs": [],
   "source": [
    "from bigraph.bigraph import Bigraph, Control, Node, Edge, Parallel, Merge, Big, InGroup, Condition, Reaction, Range, Assign, Init, Param, RuleGroup, Rules, Preds, System, BigraphicalReactiveSystem, visualize, visualize_transition, react\n",
    "from bigraph.parse import bigraph"
   ]
  },
  {
   "cell_type": "markdown",
   "id": "06f2c4bc",
   "metadata": {
    "slideshow": {
     "slide_type": "slide"
    }
   },
   "source": [
    "## operations\n",
    "\n",
    "You can build complex bigraphs out of simpler bigraphs using the basic operations:\n",
    "* A.B - *nest* (nesting B inside A)\n",
    "* A | B - *merge* (side by side, but in the same region)\n",
    "* A || B - *parallel* (side by side, different regions)\n",
    "* A{b} - *link* (A is linked to edge b)\n",
    "* A(b) - *parameterize* (A has parameter b)"
   ]
  },
  {
   "cell_type": "markdown",
   "id": "91bc623f",
   "metadata": {
    "slideshow": {
     "slide_type": "slide"
    }
   },
   "source": [
    "## python API\n",
    "\n",
    "You can parse bigraphs from strings into python objects, and you can also build up bigraphs programmatically using the python API. The basic operations are available:"
   ]
  },
  {
   "cell_type": "markdown",
   "id": "fe592865",
   "metadata": {
    "slideshow": {
     "slide_type": "subslide"
    }
   },
   "source": [
    "### nest"
   ]
  },
  {
   "cell_type": "code",
   "execution_count": 2,
   "id": "6ba41252",
   "metadata": {
    "slideshow": {
     "slide_type": "fragment"
    }
   },
   "outputs": [
    {
     "data": {
      "text/plain": [
       "A.B"
      ]
     },
     "execution_count": 2,
     "metadata": {},
     "output_type": "execute_result"
    }
   ],
   "source": [
    "A = bigraph('A')\n",
    "B = bigraph('B')\n",
    "A.nest(B)"
   ]
  },
  {
   "cell_type": "code",
   "execution_count": 3,
   "id": "ae689482",
   "metadata": {
    "slideshow": {
     "slide_type": "fragment"
    }
   },
   "outputs": [
    {
     "data": {
      "image/svg+xml": [
       "<svg xmlns=\"http://www.w3.org/2000/svg\" xmlns:xlink=\"http://www.w3.org/1999/xlink\" width=\"30pt\" height=\"142pt\" viewBox=\"0.00 0.00 30.00 142.00\">\n",
       "<g id=\"graph0\" class=\"graph\" transform=\"scale(1 1) rotate(0) translate(4 138)\">\n",
       "<title>0.svg</title>\n",
       "<polygon fill=\"white\" stroke=\"transparent\" points=\"-4,4 -4,-138 26,-138 26,4 -4,4\"/>\n",
       "<!-- r0 -->\n",
       "<g id=\"node1\" class=\"node\">\n",
       "<title>r0</title>\n",
       "<polygon fill=\"none\" stroke=\"black\" stroke-dasharray=\"5,2\" points=\"21.5,-134 0.5,-134 0.5,-116 21.5,-116 21.5,-134\"/>\n",
       "<text text-anchor=\"middle\" x=\"11\" y=\"-122.8\" font-family=\"serif\" font-size=\"9.00\">0</text>\n",
       "</g>\n",
       "<!-- v0 -->\n",
       "<g id=\"v0_A\" class=\"node\">\n",
       "<title>v0</title>\n",
       "<ellipse fill=\"none\" stroke=\"black\" cx=\"11\" cy=\"-69\" rx=\"11\" ry=\"11\"/>\n",
       "<text text-anchor=\"middle\" x=\"11\" y=\"-66.8\" font-family=\"sans-serif\" font-size=\"9.00\">A</text>\n",
       "</g>\n",
       "<!-- r0&#45;&gt;v0 -->\n",
       "<g id=\"edge1\" class=\"edge\">\n",
       "<title>r0-&gt;v0</title>\n",
       "<path fill=\"none\" stroke=\"black\" d=\"M11,-115.56C11,-107.45 11,-95.01 11,-85.18\"/>\n",
       "<polygon fill=\"black\" stroke=\"black\" points=\"11,-80.03 13.25,-85.03 11,-82.53 11,-85.03 11,-85.03 11,-85.03 11,-82.53 8.75,-85.03 11,-80.03 11,-80.03\"/>\n",
       "</g>\n",
       "<!-- v1 -->\n",
       "<g id=\"v1_B\" class=\"node\">\n",
       "<title>v1</title>\n",
       "<ellipse fill=\"none\" stroke=\"black\" cx=\"11\" cy=\"-11\" rx=\"11\" ry=\"11\"/>\n",
       "<text text-anchor=\"middle\" x=\"11\" y=\"-8.8\" font-family=\"sans-serif\" font-size=\"9.00\">B</text>\n",
       "</g>\n",
       "<!-- v0&#45;&gt;v1 -->\n",
       "<g id=\"edge2\" class=\"edge\">\n",
       "<title>v0-&gt;v1</title>\n",
       "<path fill=\"none\" stroke=\"black\" d=\"M11,-57.99C11,-49.49 11,-37.17 11,-27.42\"/>\n",
       "<polygon fill=\"black\" stroke=\"black\" points=\"11,-22.3 13.25,-27.3 11,-24.8 11,-27.3 11,-27.3 11,-27.3 11,-24.8 8.75,-27.3 11,-22.3 11,-22.3\"/>\n",
       "</g>\n",
       "</g>\n",
       "</svg>"
      ],
      "text/plain": [
       "<IPython.core.display.SVG object>"
      ]
     },
     "metadata": {},
     "output_type": "display_data"
    },
    {
     "data": {
      "text/plain": [
       "A.B"
      ]
     },
     "execution_count": 3,
     "metadata": {},
     "output_type": "execute_result"
    }
   ],
   "source": [
    "visualize(A)"
   ]
  },
  {
   "cell_type": "markdown",
   "id": "a128c900",
   "metadata": {
    "slideshow": {
     "slide_type": "subslide"
    }
   },
   "source": [
    "### merge"
   ]
  },
  {
   "cell_type": "code",
   "execution_count": 4,
   "id": "1725e2f9",
   "metadata": {
    "slideshow": {
     "slide_type": "fragment"
    }
   },
   "outputs": [
    {
     "data": {
      "text/plain": [
       "A | B"
      ]
     },
     "execution_count": 4,
     "metadata": {},
     "output_type": "execute_result"
    }
   ],
   "source": [
    "A = bigraph('A')\n",
    "B = bigraph('B')\n",
    "merge = Merge([A, B])\n",
    "merge"
   ]
  },
  {
   "cell_type": "code",
   "execution_count": 5,
   "id": "f65e31da",
   "metadata": {
    "scrolled": true,
    "slideshow": {
     "slide_type": "fragment"
    }
   },
   "outputs": [
    {
     "data": {
      "image/svg+xml": [
       "<svg xmlns=\"http://www.w3.org/2000/svg\" xmlns:xlink=\"http://www.w3.org/1999/xlink\" width=\"70pt\" height=\"84pt\" viewBox=\"0.00 0.00 70.00 84.00\">\n",
       "<g id=\"graph0\" class=\"graph\" transform=\"scale(1 1) rotate(0) translate(4 80)\">\n",
       "<title>0.svg</title>\n",
       "<polygon fill=\"white\" stroke=\"transparent\" points=\"-4,4 -4,-80 66,-80 66,4 -4,4\"/>\n",
       "<!-- r0 -->\n",
       "<g id=\"node1\" class=\"node\">\n",
       "<title>r0</title>\n",
       "<polygon fill=\"none\" stroke=\"black\" stroke-dasharray=\"5,2\" points=\"41.5,-76 20.5,-76 20.5,-58 41.5,-58 41.5,-76\"/>\n",
       "<text text-anchor=\"middle\" x=\"31\" y=\"-64.8\" font-family=\"serif\" font-size=\"9.00\">0</text>\n",
       "</g>\n",
       "<!-- v0 -->\n",
       "<g id=\"v0_A\" class=\"node\">\n",
       "<title>v0</title>\n",
       "<ellipse fill=\"none\" stroke=\"black\" cx=\"11\" cy=\"-11\" rx=\"11\" ry=\"11\"/>\n",
       "<text text-anchor=\"middle\" x=\"11\" y=\"-8.8\" font-family=\"sans-serif\" font-size=\"9.00\">A</text>\n",
       "</g>\n",
       "<!-- r0&#45;&gt;v0 -->\n",
       "<g id=\"edge1\" class=\"edge\">\n",
       "<title>r0-&gt;v0</title>\n",
       "<path fill=\"none\" stroke=\"black\" d=\"M27.88,-57.56C24.81,-49.28 20.06,-36.47 16.39,-26.54\"/>\n",
       "<polygon fill=\"black\" stroke=\"black\" points=\"14.58,-21.65 18.42,-25.56 15.44,-24 16.31,-26.34 16.31,-26.34 16.31,-26.34 15.44,-24 14.2,-27.12 14.58,-21.65 14.58,-21.65\"/>\n",
       "</g>\n",
       "<!-- v1 -->\n",
       "<g id=\"v1_B\" class=\"node\">\n",
       "<title>v1</title>\n",
       "<ellipse fill=\"none\" stroke=\"black\" cx=\"51\" cy=\"-11\" rx=\"11\" ry=\"11\"/>\n",
       "<text text-anchor=\"middle\" x=\"51\" y=\"-8.8\" font-family=\"sans-serif\" font-size=\"9.00\">B</text>\n",
       "</g>\n",
       "<!-- r0&#45;&gt;v1 -->\n",
       "<g id=\"edge2\" class=\"edge\">\n",
       "<title>r0-&gt;v1</title>\n",
       "<path fill=\"none\" stroke=\"black\" d=\"M34.12,-57.56C37.19,-49.28 41.94,-36.47 45.61,-26.54\"/>\n",
       "<polygon fill=\"black\" stroke=\"black\" points=\"47.42,-21.65 47.8,-27.12 46.56,-24 45.69,-26.34 45.69,-26.34 45.69,-26.34 46.56,-24 43.58,-25.56 47.42,-21.65 47.42,-21.65\"/>\n",
       "</g>\n",
       "</g>\n",
       "</svg>"
      ],
      "text/plain": [
       "<IPython.core.display.SVG object>"
      ]
     },
     "metadata": {},
     "output_type": "display_data"
    },
    {
     "data": {
      "text/plain": [
       "A | B"
      ]
     },
     "execution_count": 5,
     "metadata": {},
     "output_type": "execute_result"
    }
   ],
   "source": [
    "visualize(merge)"
   ]
  },
  {
   "cell_type": "markdown",
   "id": "fd9f1685",
   "metadata": {
    "slideshow": {
     "slide_type": "skip"
    }
   },
   "source": [
    "### parallel"
   ]
  },
  {
   "cell_type": "code",
   "execution_count": 6,
   "id": "bb8455ac",
   "metadata": {
    "slideshow": {
     "slide_type": "skip"
    }
   },
   "outputs": [
    {
     "data": {
      "text/plain": [
       "A || B"
      ]
     },
     "execution_count": 6,
     "metadata": {},
     "output_type": "execute_result"
    }
   ],
   "source": [
    "A = bigraph('A')\n",
    "B = bigraph('B')\n",
    "Parallel([A, B])"
   ]
  },
  {
   "cell_type": "markdown",
   "id": "38be0cae",
   "metadata": {
    "slideshow": {
     "slide_type": "subslide"
    }
   },
   "source": [
    "### link"
   ]
  },
  {
   "cell_type": "code",
   "execution_count": 7,
   "id": "3c95eb9a",
   "metadata": {
    "slideshow": {
     "slide_type": "fragment"
    }
   },
   "outputs": [
    {
     "data": {
      "text/plain": [
       "A{b}"
      ]
     },
     "execution_count": 7,
     "metadata": {},
     "output_type": "execute_result"
    }
   ],
   "source": [
    "A = bigraph('A')\n",
    "b = Edge('b')\n",
    "A.link(b)"
   ]
  },
  {
   "cell_type": "code",
   "execution_count": 8,
   "id": "31097045",
   "metadata": {
    "slideshow": {
     "slide_type": "fragment"
    }
   },
   "outputs": [
    {
     "data": {
      "image/svg+xml": [
       "<svg xmlns=\"http://www.w3.org/2000/svg\" xmlns:xlink=\"http://www.w3.org/1999/xlink\" width=\"68pt\" height=\"84pt\" viewBox=\"0.00 0.00 68.00 84.00\">\n",
       "<g id=\"graph0\" class=\"graph\" transform=\"scale(1 1) rotate(0) translate(4 80)\">\n",
       "<title>0.svg</title>\n",
       "<polygon fill=\"white\" stroke=\"transparent\" points=\"-4,4 -4,-80 64,-80 64,4 -4,4\"/>\n",
       "<!-- r0 -->\n",
       "<g id=\"node1\" class=\"node\">\n",
       "<title>r0</title>\n",
       "<polygon fill=\"none\" stroke=\"black\" stroke-dasharray=\"5,2\" points=\"21,-76 0,-76 0,-58 21,-58 21,-76\"/>\n",
       "<text text-anchor=\"middle\" x=\"10.5\" y=\"-64.8\" font-family=\"serif\" font-size=\"9.00\">0</text>\n",
       "</g>\n",
       "<!-- v0 -->\n",
       "<g id=\"v0_A\" class=\"node\">\n",
       "<title>v0</title>\n",
       "<ellipse fill=\"none\" stroke=\"black\" cx=\"29.5\" cy=\"-11\" rx=\"11\" ry=\"11\"/>\n",
       "<text text-anchor=\"middle\" x=\"29.5\" y=\"-8.8\" font-family=\"sans-serif\" font-size=\"9.00\">A</text>\n",
       "</g>\n",
       "<!-- r0&#45;&gt;v0 -->\n",
       "<g id=\"edge1\" class=\"edge\">\n",
       "<title>r0-&gt;v0</title>\n",
       "<path fill=\"none\" stroke=\"black\" d=\"M13.47,-57.56C16.38,-49.28 20.89,-36.47 24.38,-26.54\"/>\n",
       "<polygon fill=\"black\" stroke=\"black\" points=\"26.1,-21.65 26.57,-27.12 25.27,-24.01 24.44,-26.37 24.44,-26.37 24.44,-26.37 25.27,-24.01 22.32,-25.62 26.1,-21.65 26.1,-21.65\"/>\n",
       "</g>\n",
       "<!-- ob -->\n",
       "<g id=\"node2\" class=\"node\">\n",
       "<title>ob</title>\n",
       "<text text-anchor=\"middle\" x=\"49.5\" y=\"-64.8\" font-family=\"serif\" font-size=\"9.00\">b</text>\n",
       "</g>\n",
       "<!-- v0&#45;&gt;ob -->\n",
       "<g id=\"edge2\" class=\"edge\">\n",
       "<title>v0-&gt;ob</title>\n",
       "<path fill=\"none\" stroke=\"green\" d=\"M33.08,-21.65C36.86,-31.87 42.77,-47.83 46.38,-57.56\"/>\n",
       "</g>\n",
       "</g>\n",
       "</svg>"
      ],
      "text/plain": [
       "<IPython.core.display.SVG object>"
      ]
     },
     "metadata": {},
     "output_type": "display_data"
    },
    {
     "data": {
      "text/plain": [
       "A{b}"
      ]
     },
     "execution_count": 8,
     "metadata": {},
     "output_type": "execute_result"
    }
   ],
   "source": [
    "visualize(A)"
   ]
  },
  {
   "cell_type": "markdown",
   "id": "cf52c195",
   "metadata": {
    "slideshow": {
     "slide_type": "slide"
    }
   },
   "source": [
    "## parsing\n",
    "\n",
    "The notation we have been using for bigraphs is Milner's original formalized into a language named `.big`, as implemented by the [Glasgow Bigraph Team](https://uog-bigraph.bitbucket.io/index.html). We are using their engine to run simulations, but we have our own parser for `.big` files implemented as a [Parsing Expression Grammar](https://en.wikipedia.org/wiki/Parsing_expression_grammar) that converts strings into python bigraph objects. "
   ]
  },
  {
   "cell_type": "markdown",
   "id": "4da2c059",
   "metadata": {
    "slideshow": {
     "slide_type": "subslide"
    }
   },
   "source": [
    "To access the `.big` parser, use the `bigraph` function:"
   ]
  },
  {
   "cell_type": "code",
   "execution_count": 9,
   "id": "3665952a",
   "metadata": {
    "slideshow": {
     "slide_type": "fragment"
    }
   },
   "outputs": [
    {
     "data": {
      "text/plain": [
       "A.(B | C{m,n})"
      ]
     },
     "execution_count": 9,
     "metadata": {},
     "output_type": "execute_result"
    }
   ],
   "source": [
    "parsed = bigraph('A.(B | C{m, n})')\n",
    "parsed"
   ]
  },
  {
   "cell_type": "markdown",
   "id": "9078ccd8",
   "metadata": {
    "slideshow": {
     "slide_type": "fragment"
    }
   },
   "source": [
    "The python bigraph objects are rendered by default, which mirrors the original form we parsed. "
   ]
  },
  {
   "cell_type": "markdown",
   "id": "0af480a7",
   "metadata": {
    "slideshow": {
     "slide_type": "subslide"
    }
   },
   "source": [
    "We can also build this bigraph programmatically."
   ]
  },
  {
   "cell_type": "code",
   "execution_count": 10,
   "id": "1d60d07c",
   "metadata": {
    "slideshow": {
     "slide_type": "fragment"
    }
   },
   "outputs": [
    {
     "data": {
      "text/plain": [
       "(A, B, C)"
      ]
     },
     "execution_count": 10,
     "metadata": {},
     "output_type": "execute_result"
    }
   ],
   "source": [
    "A = bigraph('A')\n",
    "B = bigraph('B')\n",
    "C = bigraph('C')\n",
    "A, B, C"
   ]
  },
  {
   "cell_type": "code",
   "execution_count": 11,
   "id": "9739c3e5",
   "metadata": {
    "slideshow": {
     "slide_type": "fragment"
    }
   },
   "outputs": [
    {
     "data": {
      "text/plain": [
       "C{m,n}"
      ]
     },
     "execution_count": 11,
     "metadata": {},
     "output_type": "execute_result"
    }
   ],
   "source": [
    "C.link('m')\n",
    "C.link('n')\n",
    "C"
   ]
  },
  {
   "cell_type": "code",
   "execution_count": 12,
   "id": "9d5e0d16",
   "metadata": {
    "slideshow": {
     "slide_type": "fragment"
    }
   },
   "outputs": [
    {
     "data": {
      "text/plain": [
       "B | C{m,n}"
      ]
     },
     "execution_count": 12,
     "metadata": {},
     "output_type": "execute_result"
    }
   ],
   "source": [
    "merge = B.merge(C)\n",
    "merge"
   ]
  },
  {
   "cell_type": "code",
   "execution_count": 13,
   "id": "941ee088",
   "metadata": {
    "slideshow": {
     "slide_type": "fragment"
    }
   },
   "outputs": [
    {
     "data": {
      "text/plain": [
       "A.(B | C{m,n})"
      ]
     },
     "execution_count": 13,
     "metadata": {},
     "output_type": "execute_result"
    }
   ],
   "source": [
    "A.nest(merge)\n",
    "A"
   ]
  },
  {
   "cell_type": "markdown",
   "id": "f3e937c8",
   "metadata": {
    "slideshow": {
     "slide_type": "subslide"
    }
   },
   "source": [
    "Let's visualize this bigraph:"
   ]
  },
  {
   "cell_type": "code",
   "execution_count": 14,
   "id": "18e371e9",
   "metadata": {
    "slideshow": {
     "slide_type": "fragment"
    }
   },
   "outputs": [
    {
     "name": "stdout",
     "output_type": "stream",
     "text": [
      "A.(B | C{m,n})\n"
     ]
    },
    {
     "data": {
      "image/svg+xml": [
       "<svg xmlns=\"http://www.w3.org/2000/svg\" xmlns:xlink=\"http://www.w3.org/1999/xlink\" width=\"110pt\" height=\"142pt\" viewBox=\"0.00 0.00 109.50 142.00\">\n",
       "<g id=\"graph0\" class=\"graph\" transform=\"scale(1 1) rotate(0) translate(4 138)\">\n",
       "<title>0.svg</title>\n",
       "<polygon fill=\"white\" stroke=\"transparent\" points=\"-4,4 -4,-138 105.5,-138 105.5,4 -4,4\"/>\n",
       "<!-- r0 -->\n",
       "<g id=\"node1\" class=\"node\">\n",
       "<title>r0</title>\n",
       "<polygon fill=\"none\" stroke=\"black\" stroke-dasharray=\"5,2\" points=\"21.5,-134 0.5,-134 0.5,-116 21.5,-116 21.5,-134\"/>\n",
       "<text text-anchor=\"middle\" x=\"11\" y=\"-122.8\" font-family=\"serif\" font-size=\"9.00\">0</text>\n",
       "</g>\n",
       "<!-- v0 -->\n",
       "<g id=\"v0_A\" class=\"node\">\n",
       "<title>v0</title>\n",
       "<ellipse fill=\"none\" stroke=\"black\" cx=\"11\" cy=\"-69\" rx=\"11\" ry=\"11\"/>\n",
       "<text text-anchor=\"middle\" x=\"11\" y=\"-66.8\" font-family=\"sans-serif\" font-size=\"9.00\">A</text>\n",
       "</g>\n",
       "<!-- r0&#45;&gt;v0 -->\n",
       "<g id=\"edge1\" class=\"edge\">\n",
       "<title>r0-&gt;v0</title>\n",
       "<path fill=\"none\" stroke=\"black\" d=\"M11,-115.56C11,-107.45 11,-95.01 11,-85.18\"/>\n",
       "<polygon fill=\"black\" stroke=\"black\" points=\"11,-80.03 13.25,-85.03 11,-82.53 11,-85.03 11,-85.03 11,-85.03 11,-82.53 8.75,-85.03 11,-80.03 11,-80.03\"/>\n",
       "</g>\n",
       "<!-- om -->\n",
       "<g id=\"node2\" class=\"node\">\n",
       "<title>om</title>\n",
       "<text text-anchor=\"middle\" x=\"51\" y=\"-122.8\" font-family=\"serif\" font-size=\"9.00\">m</text>\n",
       "</g>\n",
       "<!-- on -->\n",
       "<g id=\"node3\" class=\"node\">\n",
       "<title>on</title>\n",
       "<text text-anchor=\"middle\" x=\"91\" y=\"-122.8\" font-family=\"serif\" font-size=\"9.00\">n</text>\n",
       "</g>\n",
       "<!-- v1 -->\n",
       "<g id=\"v1_B\" class=\"node\">\n",
       "<title>v1</title>\n",
       "<ellipse fill=\"none\" stroke=\"black\" cx=\"11\" cy=\"-11\" rx=\"11\" ry=\"11\"/>\n",
       "<text text-anchor=\"middle\" x=\"11\" y=\"-8.8\" font-family=\"sans-serif\" font-size=\"9.00\">B</text>\n",
       "</g>\n",
       "<!-- v0&#45;&gt;v1 -->\n",
       "<g id=\"edge2\" class=\"edge\">\n",
       "<title>v0-&gt;v1</title>\n",
       "<path fill=\"none\" stroke=\"black\" d=\"M11,-57.99C11,-49.49 11,-37.17 11,-27.42\"/>\n",
       "<polygon fill=\"black\" stroke=\"black\" points=\"11,-22.3 13.25,-27.3 11,-24.8 11,-27.3 11,-27.3 11,-27.3 11,-24.8 8.75,-27.3 11,-22.3 11,-22.3\"/>\n",
       "</g>\n",
       "<!-- v2 -->\n",
       "<g id=\"v2_C\" class=\"node\">\n",
       "<title>v2</title>\n",
       "<ellipse fill=\"none\" stroke=\"black\" cx=\"51\" cy=\"-11\" rx=\"11\" ry=\"11\"/>\n",
       "<text text-anchor=\"middle\" x=\"51\" y=\"-8.8\" font-family=\"sans-serif\" font-size=\"9.00\">C</text>\n",
       "</g>\n",
       "<!-- v0&#45;&gt;v2 -->\n",
       "<g id=\"edge3\" class=\"edge\">\n",
       "<title>v0-&gt;v2</title>\n",
       "<path fill=\"none\" stroke=\"black\" d=\"M17.25,-59.25C23.86,-49.99 34.37,-35.29 41.9,-24.74\"/>\n",
       "<polygon fill=\"black\" stroke=\"black\" points=\"44.92,-20.51 43.85,-25.88 43.47,-22.54 42.02,-24.57 42.02,-24.57 42.02,-24.57 43.47,-22.54 40.19,-23.27 44.92,-20.51 44.92,-20.51\"/>\n",
       "</g>\n",
       "<!-- v2&#45;&gt;om -->\n",
       "<g id=\"edge4\" class=\"edge\">\n",
       "<title>v2-&gt;om</title>\n",
       "<path fill=\"none\" stroke=\"green\" d=\"M51,-22.2C51,-44.25 51,-95.98 51,-115.95\"/>\n",
       "</g>\n",
       "<!-- v2&#45;&gt;on -->\n",
       "<g id=\"edge5\" class=\"edge\">\n",
       "<title>v2-&gt;on</title>\n",
       "<path fill=\"none\" stroke=\"green\" d=\"M54.41,-21.54C62.14,-43.2 80.92,-95.78 88.12,-115.95\"/>\n",
       "</g>\n",
       "</g>\n",
       "</svg>"
      ],
      "text/plain": [
       "<IPython.core.display.SVG object>"
      ]
     },
     "metadata": {},
     "output_type": "display_data"
    },
    {
     "data": {
      "text/plain": [
       "A.(B | C{m,n})"
      ]
     },
     "execution_count": 14,
     "metadata": {},
     "output_type": "execute_result"
    }
   ],
   "source": [
    "print(A)\n",
    "visualize(A)"
   ]
  },
  {
   "cell_type": "markdown",
   "id": "fcadd591",
   "metadata": {
    "slideshow": {
     "slide_type": "skip"
    }
   },
   "source": [
    "TODO: show rendered results from running the system\n",
    "\n",
    "TODO: render bigraphs in a nested way"
   ]
  },
  {
   "cell_type": "markdown",
   "id": "072bebd0",
   "metadata": {
    "slideshow": {
     "slide_type": "slide"
    }
   },
   "source": [
    "## controls\n",
    "\n",
    "Controls are a way to label nodes, giving it a kind of \"type\" which declares:\n",
    "- **symbol** - the label given by this control\n",
    "- **arity** - how many ports it has (where edges can connect)\n",
    "- **fun** - any parameters nodes of this control may have\n",
    "- **atomic** - whether it can have subnodes or not"
   ]
  },
  {
   "cell_type": "markdown",
   "id": "d309fdd5",
   "metadata": {
    "slideshow": {
     "slide_type": "subslide"
    }
   },
   "source": [
    "Here is an example of a control with an arity of 2:"
   ]
  },
  {
   "cell_type": "code",
   "execution_count": 15,
   "id": "c6c46b6d",
   "metadata": {
    "slideshow": {
     "slide_type": "fragment"
    }
   },
   "outputs": [
    {
     "data": {
      "text/plain": [
       "('D', 2)"
      ]
     },
     "execution_count": 15,
     "metadata": {},
     "output_type": "execute_result"
    }
   ],
   "source": [
    "D1 = bigraph('ctrl D = 2')\n",
    "D1.symbol, D1.arity"
   ]
  },
  {
   "cell_type": "markdown",
   "id": "17233a6e",
   "metadata": {
    "slideshow": {
     "slide_type": "subslide"
    }
   },
   "source": [
    "Here is another control with named parameters:"
   ]
  },
  {
   "cell_type": "code",
   "execution_count": 16,
   "id": "0c5dd538",
   "metadata": {
    "slideshow": {
     "slide_type": "fragment"
    }
   },
   "outputs": [
    {
     "data": {
      "text/plain": [
       "('Compartment', 1, ('volume', 'state'))"
      ]
     },
     "execution_count": 16,
     "metadata": {},
     "output_type": "execute_result"
    }
   ],
   "source": [
    "C = bigraph('fun ctrl Compartment(volume, state) = 1')\n",
    "C.symbol, C.arity, C.fun"
   ]
  },
  {
   "cell_type": "markdown",
   "id": "c75e415a",
   "metadata": {
    "slideshow": {
     "slide_type": "subslide"
    }
   },
   "source": [
    "### nodes and controls\n",
    "\n",
    "Controls give us a more principled way to create nodes, and provide a way to structure our systems and guide reactions to target specific elements."
   ]
  },
  {
   "cell_type": "code",
   "execution_count": 17,
   "id": "658c4ab7",
   "metadata": {
    "slideshow": {
     "slide_type": "fragment"
    }
   },
   "outputs": [
    {
     "data": {
      "text/plain": [
       "(Compartment(0.3,stable){atp}, Compartment(11.1111,active){chromosome})"
      ]
     },
     "execution_count": 17,
     "metadata": {},
     "output_type": "execute_result"
    }
   ],
   "source": [
    "C1 = Node(control=C, params=(0.3, \"stable\"), ports=('atp',))\n",
    "C2 = Node(control=C, params=(11.1111, \"active\"), ports=('chromosome',))\n",
    "C1, C2"
   ]
  },
  {
   "cell_type": "markdown",
   "id": "c17e9ae1",
   "metadata": {
    "slideshow": {
     "slide_type": "fragment"
    }
   },
   "source": [
    "We can even assign parameters this way"
   ]
  },
  {
   "cell_type": "code",
   "execution_count": 18,
   "id": "6eaaa99c",
   "metadata": {},
   "outputs": [
    {
     "data": {
      "text/plain": [
       "Compartment(0.4,stable){atp}"
      ]
     },
     "execution_count": 18,
     "metadata": {},
     "output_type": "execute_result"
    }
   ],
   "source": [
    "C1.assign('volume', 0.4)"
   ]
  },
  {
   "cell_type": "markdown",
   "id": "4bf55766",
   "metadata": {
    "slideshow": {
     "slide_type": "slide"
    }
   },
   "source": [
    "## general representation\n",
    "\n",
    "The nested notation we've been using so far is succinct, but sometimes we want to represent the bigraphs in a more general way, specifically not directly nesting the nodes but instead tracking the four components of a bigraph separately:\n",
    "\n",
    " - controls\n",
    " - nodes\n",
    " - places\n",
    " - links"
   ]
  },
  {
   "cell_type": "markdown",
   "id": "49bce0b2",
   "metadata": {
    "slideshow": {
     "slide_type": "subslide"
    }
   },
   "source": [
    "We can do this by using the `unfold()` method of the `Bigraph` class to generate an instance of `Bigraph`:"
   ]
  },
  {
   "cell_type": "code",
   "execution_count": 19,
   "id": "9231d4fa",
   "metadata": {
    "slideshow": {
     "slide_type": "fragment"
    }
   },
   "outputs": [
    {
     "data": {
      "text/plain": [
       "{'controls': {'B': {'symbol': 'B', 'arity': 0, 'atomic': False, 'fun': []},\n",
       "  'C': {'symbol': 'C', 'arity': 2, 'atomic': False, 'fun': []},\n",
       "  'A': {'symbol': 'A', 'arity': 0, 'atomic': False, 'fun': []}},\n",
       " 'nodes': {1: {'control': 'B', 'params': []},\n",
       "  2: {'control': 'C', 'params': []},\n",
       "  0: {'control': 'A', 'params': []}},\n",
       " 'places': {0: (1, 2)},\n",
       " 'links': {'m': (2,), 'n': (2,)}}"
      ]
     },
     "execution_count": 19,
     "metadata": {},
     "output_type": "execute_result"
    }
   ],
   "source": [
    "ABC = bigraph('A.(B | C{m,n})')\n",
    "open_form = Bigraph.unfold(ABC)\n",
    "open_form.get_spec()"
   ]
  },
  {
   "cell_type": "markdown",
   "id": "03ce4efc",
   "metadata": {
    "slideshow": {
     "slide_type": "subslide"
    }
   },
   "source": [
    "This means that if you have a dictionary with the four keys `controls, nodes, places, links` you can make a nested bigraph out of it (going in reverse)"
   ]
  },
  {
   "cell_type": "code",
   "execution_count": 20,
   "id": "afc8c3ae",
   "metadata": {
    "slideshow": {
     "slide_type": "fragment"
    }
   },
   "outputs": [
    {
     "data": {
      "text/plain": [
       "A.(B | C{m,n})"
      ]
     },
     "execution_count": 20,
     "metadata": {},
     "output_type": "execute_result"
    }
   ],
   "source": [
    "spec = {'controls': {'B': {'symbol': 'B', 'arity': 0, 'atomic': False, 'fun': []},\n",
    "  'C': {'symbol': 'C', 'arity': 2, 'atomic': False, 'fun': []},\n",
    "  'A': {'symbol': 'A', 'arity': 0, 'atomic': False, 'fun': []}},\n",
    "  'nodes': {1: {'control': 'B', 'params': []},\n",
    "  2: {'control': 'C', 'params': []},\n",
    "  0: {'control': 'A', 'params': []}},\n",
    "  'places': {0: (1, 2)},\n",
    "  'links': {'m': (2,), 'n': (2,)}}\n",
    "from_spec = Bigraph(**spec)\n",
    "from_spec.fold()"
   ]
  },
  {
   "cell_type": "markdown",
   "id": "0f36973a",
   "metadata": {
    "slideshow": {
     "slide_type": "slide"
    }
   },
   "source": [
    "## reactions\n",
    "\n",
    "We have been talking a lot about the structure of bigraphs, but the real point is to operate dynamically, in this case through `reactions`. A reaction is composed of two separate bigraphs, the `redex` which matches some existing structure, and the `reactum` that signifies what to modify in that structure. \n",
    "\n",
    "![reaction](img/reaction-example.png)"
   ]
  },
  {
   "cell_type": "markdown",
   "id": "5c6bf79e",
   "metadata": {
    "slideshow": {
     "slide_type": "subslide"
    }
   },
   "source": [
    "### declaring a reaction\n",
    "\n",
    "To create a new reaction, we need to specify the redex bigraph and the reactum bigraph. Here is a simple reaction which takes any node with a `Hello` control and nests a `World` node inside it:"
   ]
  },
  {
   "cell_type": "code",
   "execution_count": 21,
   "id": "16a9601d",
   "metadata": {
    "slideshow": {
     "slide_type": "fragment"
    }
   },
   "outputs": [
    {
     "data": {
      "text/plain": [
       "react add_world = \n",
       "Hello\n",
       "-->\n",
       "Hello.World"
      ]
     },
     "execution_count": 21,
     "metadata": {},
     "output_type": "execute_result"
    }
   ],
   "source": [
    "add_world = bigraph(\"\"\"\n",
    "react add_world =\n",
    "    Hello\n",
    "    -->\n",
    "    Hello.World\n",
    "\"\"\")\n",
    "add_world"
   ]
  },
  {
   "cell_type": "markdown",
   "id": "476a77db",
   "metadata": {
    "slideshow": {
     "slide_type": "subslide"
    }
   },
   "source": [
    "### applying a reaction\n",
    "\n",
    "Now let's apply our reaction. We need an initial bigraph, in this case the lone node with control `Hello`. Then we can call `react` with the `add_world` reaction on it:"
   ]
  },
  {
   "cell_type": "code",
   "execution_count": 22,
   "id": "7daa8009",
   "metadata": {
    "scrolled": true,
    "slideshow": {
     "slide_type": "fragment"
    }
   },
   "outputs": [
    {
     "data": {
      "image/svg+xml": [
       "<svg xmlns=\"http://www.w3.org/2000/svg\" xmlns:xlink=\"http://www.w3.org/1999/xlink\" width=\"58pt\" height=\"84pt\" viewBox=\"0.00 0.00 58.00 84.00\">\n",
       "<g id=\"graph0\" class=\"graph\" transform=\"scale(1 1) rotate(0) translate(4 80)\">\n",
       "<title>0.svg</title>\n",
       "<polygon fill=\"white\" stroke=\"transparent\" points=\"-4,4 -4,-80 54,-80 54,4 -4,4\"/>\n",
       "<!-- r0 -->\n",
       "<g id=\"node1\" class=\"node\">\n",
       "<title>r0</title>\n",
       "<polygon fill=\"none\" stroke=\"black\" stroke-dasharray=\"5,2\" points=\"35.5,-76 14.5,-76 14.5,-58 35.5,-58 35.5,-76\"/>\n",
       "<text text-anchor=\"middle\" x=\"25\" y=\"-64.8\" font-family=\"serif\" font-size=\"9.00\">0</text>\n",
       "</g>\n",
       "<!-- v0 -->\n",
       "<g id=\"v0_Hello\" class=\"node\">\n",
       "<title>v0</title>\n",
       "<ellipse fill=\"none\" stroke=\"black\" cx=\"25\" cy=\"-11\" rx=\"25\" ry=\"11\"/>\n",
       "<text text-anchor=\"middle\" x=\"25\" y=\"-8.8\" font-family=\"sans-serif\" font-size=\"9.00\">Hello</text>\n",
       "</g>\n",
       "<!-- r0&#45;&gt;v0 -->\n",
       "<g id=\"edge1\" class=\"edge\">\n",
       "<title>r0-&gt;v0</title>\n",
       "<path fill=\"none\" stroke=\"black\" d=\"M25,-57.56C25,-49.45 25,-37.01 25,-27.18\"/>\n",
       "<polygon fill=\"black\" stroke=\"black\" points=\"25,-22.03 27.25,-27.03 25,-24.53 25,-27.03 25,-27.03 25,-27.03 25,-24.53 22.75,-27.03 25,-22.03 25,-22.03\"/>\n",
       "</g>\n",
       "</g>\n",
       "</svg>"
      ],
      "text/plain": [
       "<IPython.core.display.SVG object>"
      ]
     },
     "metadata": {},
     "output_type": "display_data"
    },
    {
     "data": {
      "image/svg+xml": [
       "<svg xmlns=\"http://www.w3.org/2000/svg\" xmlns:xlink=\"http://www.w3.org/1999/xlink\" width=\"58pt\" height=\"142pt\" viewBox=\"0.00 0.00 58.00 142.00\">\n",
       "<g id=\"graph0\" class=\"graph\" transform=\"scale(1 1) rotate(0) translate(4 138)\">\n",
       "<title>0.svg</title>\n",
       "<polygon fill=\"white\" stroke=\"transparent\" points=\"-4,4 -4,-138 54,-138 54,4 -4,4\"/>\n",
       "<!-- r0 -->\n",
       "<g id=\"node1\" class=\"node\">\n",
       "<title>r0</title>\n",
       "<polygon fill=\"none\" stroke=\"black\" stroke-dasharray=\"5,2\" points=\"35.5,-134 14.5,-134 14.5,-116 35.5,-116 35.5,-134\"/>\n",
       "<text text-anchor=\"middle\" x=\"25\" y=\"-122.8\" font-family=\"serif\" font-size=\"9.00\">0</text>\n",
       "</g>\n",
       "<!-- v0 -->\n",
       "<g id=\"v0_Hello\" class=\"node\">\n",
       "<title>v0</title>\n",
       "<ellipse fill=\"none\" stroke=\"black\" cx=\"25\" cy=\"-69\" rx=\"25\" ry=\"11\"/>\n",
       "<text text-anchor=\"middle\" x=\"25\" y=\"-66.8\" font-family=\"sans-serif\" font-size=\"9.00\">Hello</text>\n",
       "</g>\n",
       "<!-- r0&#45;&gt;v0 -->\n",
       "<g id=\"edge1\" class=\"edge\">\n",
       "<title>r0-&gt;v0</title>\n",
       "<path fill=\"none\" stroke=\"black\" d=\"M25,-115.56C25,-107.45 25,-95.01 25,-85.18\"/>\n",
       "<polygon fill=\"black\" stroke=\"black\" points=\"25,-80.03 27.25,-85.03 25,-82.53 25,-85.03 25,-85.03 25,-85.03 25,-82.53 22.75,-85.03 25,-80.03 25,-80.03\"/>\n",
       "</g>\n",
       "<!-- v1 -->\n",
       "<g id=\"v1_World\" class=\"node\">\n",
       "<title>v1</title>\n",
       "<ellipse fill=\"none\" stroke=\"black\" cx=\"25\" cy=\"-11\" rx=\"25\" ry=\"11\"/>\n",
       "<text text-anchor=\"middle\" x=\"25\" y=\"-8.8\" font-family=\"sans-serif\" font-size=\"9.00\">World</text>\n",
       "</g>\n",
       "<!-- v0&#45;&gt;v1 -->\n",
       "<g id=\"edge2\" class=\"edge\">\n",
       "<title>v0-&gt;v1</title>\n",
       "<path fill=\"none\" stroke=\"black\" d=\"M25,-57.99C25,-49.49 25,-37.17 25,-27.42\"/>\n",
       "<polygon fill=\"black\" stroke=\"black\" points=\"25,-22.3 27.25,-27.3 25,-24.8 25,-27.3 25,-27.3 25,-27.3 25,-24.8 22.75,-27.3 25,-22.3 25,-22.3\"/>\n",
       "</g>\n",
       "</g>\n",
       "</svg>"
      ],
      "text/plain": [
       "<IPython.core.display.SVG object>"
      ]
     },
     "metadata": {},
     "output_type": "display_data"
    },
    {
     "data": {
      "text/plain": [
       "Hello.World"
      ]
     },
     "execution_count": 22,
     "metadata": {},
     "output_type": "execute_result"
    }
   ],
   "source": [
    "hello = bigraph(\"Hello\")\n",
    "result = react(add_world, hello)\n",
    "\n",
    "visualize(hello)\n",
    "visualize(result)\n",
    "result"
   ]
  },
  {
   "cell_type": "markdown",
   "id": "8bbccbaa",
   "metadata": {
    "slideshow": {
     "slide_type": "slide"
    }
   },
   "source": [
    "## reactive systems\n",
    "\n",
    "Beyond applying a single reaction to a single bigraph, we can also run whole systems of reactions in a series of transitions starting from an initial bigraph. In order to do this, we need to define the `system`."
   ]
  },
  {
   "cell_type": "markdown",
   "id": "507b796e",
   "metadata": {
    "slideshow": {
     "slide_type": "subslide"
    }
   },
   "source": [
    "### declaring a reactive system\n",
    "\n",
    "We can declare the system using `.big` notation:"
   ]
  },
  {
   "cell_type": "code",
   "execution_count": 23,
   "id": "013b62a2",
   "metadata": {
    "slideshow": {
     "slide_type": "fragment"
    }
   },
   "outputs": [
    {
     "data": {
      "text/plain": [
       "begin brs\n",
       "    init hello;\n",
       "    rules = [\n",
       "        {add_world}\n",
       "    ];\n",
       "end"
      ]
     },
     "execution_count": 23,
     "metadata": {},
     "output_type": "execute_result"
    }
   ],
   "source": [
    "system = bigraph(\"\"\"\n",
    "begin brs\n",
    "    init hello;\n",
    "    rules = [\n",
    "        {add_world}\n",
    "    ];\n",
    "end\n",
    "\"\"\")\n",
    "system"
   ]
  },
  {
   "cell_type": "markdown",
   "id": "5ebb10b8",
   "metadata": {
    "slideshow": {
     "slide_type": "subslide"
    }
   },
   "source": [
    "There are a few components to this:"
   ]
  },
  {
   "cell_type": "markdown",
   "id": "00a989b6",
   "metadata": {
    "slideshow": {
     "slide_type": "fragment"
    }
   },
   "source": [
    "* `begin brs` declares which type of reactive system we are creating. Other options are `pbrs` and `sbrs` for probabilistic and stochastic reactive systems respectively. "
   ]
  },
  {
   "cell_type": "markdown",
   "id": "2a9f3615",
   "metadata": {
    "slideshow": {
     "slide_type": "fragment"
    }
   },
   "source": [
    "* `init hello` declares the bigraph we'll use as the initial state for the system. Reactions will match against this initial state at first, and then each subsequent state as transitions are applied. "
   ]
  },
  {
   "cell_type": "markdown",
   "id": "a784f6c0",
   "metadata": {
    "slideshow": {
     "slide_type": "fragment"
    }
   },
   "source": [
    "* `rules = [....]` is the collection of rules, organized into \"rule groups\", each group enclosed by squirrely braces. "
   ]
  },
  {
   "cell_type": "markdown",
   "id": "ef493a8d",
   "metadata": {
    "slideshow": {
     "slide_type": "subslide"
    }
   },
   "source": [
    "### rule groups\n",
    "\n",
    "Rule groups are a way to specify groups of alternative reactions to apply to the current bigraph state. Each group will be checked one by one in order, and if *any* of the rules in that group match, one of the matching rules will be selected (non-deterministically) to apply a transition to the current state, then we go back to the top of the `rules` section. "
   ]
  },
  {
   "cell_type": "markdown",
   "id": "ffb4b8ca",
   "metadata": {
    "slideshow": {
     "slide_type": "fragment"
    }
   },
   "source": [
    "```python\n",
    "rules = [\n",
    "    {add_world, grow_world},\n",
    "    {perturb_world},\n",
    "    {remove_world, duplicate_world, invert_world}\n",
    "]\n",
    "```"
   ]
  },
  {
   "cell_type": "markdown",
   "id": "b888fc3a",
   "metadata": {
    "slideshow": {
     "slide_type": "fragment"
    }
   },
   "source": [
    "In this case, we check first whether the redex of either `add_world` or `grow_world` matches the current state. If one of them does, it is applied, otherwise we check the next group. If *both* of them match, then one is selected at randomly. "
   ]
  },
  {
   "cell_type": "markdown",
   "id": "90b1cbe3",
   "metadata": {
    "slideshow": {
     "slide_type": "fragment"
    }
   },
   "source": [
    "Once a rule is applied, we go back to the top and iterate through the rule groups again. If none of the rules match, the simulation ends. "
   ]
  },
  {
   "cell_type": "markdown",
   "id": "56ddbd56",
   "metadata": {
    "slideshow": {
     "slide_type": "slide"
    }
   },
   "source": [
    "## execution\n",
    "\n",
    "Now that we have all the pieces, let's put them together into a whole system and run it! "
   ]
  },
  {
   "cell_type": "code",
   "execution_count": 24,
   "id": "119bf417",
   "metadata": {
    "slideshow": {
     "slide_type": "fragment"
    }
   },
   "outputs": [],
   "source": [
    "hello_world = bigraph(\"\"\"\n",
    "ctrl Hello = 0;\n",
    "ctrl World = 0;\n",
    "\n",
    "react add_world = \n",
    "    Hello\n",
    "    -->\n",
    "    Hello.World;\n",
    "\n",
    "big initial = Hello.1;\n",
    "\n",
    "begin brs\n",
    "    init initial;\n",
    "    rules = [\n",
    "        {add_world}\n",
    "    ];\n",
    "end\n",
    "\"\"\")"
   ]
  },
  {
   "cell_type": "markdown",
   "id": "24458040",
   "metadata": {
    "slideshow": {
     "slide_type": "subslide"
    }
   },
   "source": [
    "Here is our system:"
   ]
  },
  {
   "cell_type": "code",
   "execution_count": 25,
   "id": "0bdc931e",
   "metadata": {
    "slideshow": {
     "slide_type": "-"
    }
   },
   "outputs": [
    {
     "data": {
      "text/plain": [
       "ctrl Hello = 0;\n",
       "ctrl World = 0;\n",
       "\n",
       "react add_world = \n",
       "    Hello\n",
       "    -->\n",
       "    Hello.World;\n",
       "\n",
       "\n",
       "big initial = Hello.1;\n",
       "\n",
       "begin brs\n",
       "    init initial;\n",
       "    rules = [\n",
       "        {add_world}\n",
       "    ];\n",
       "end"
      ]
     },
     "execution_count": 25,
     "metadata": {},
     "output_type": "execute_result"
    }
   ],
   "source": [
    "hello_world"
   ]
  },
  {
   "cell_type": "markdown",
   "id": "8c717821",
   "metadata": {},
   "source": [
    "Let's simulate this system now:"
   ]
  },
  {
   "cell_type": "code",
   "execution_count": 26,
   "id": "0c2c69c7",
   "metadata": {
    "slideshow": {
     "slide_type": "fragment"
    }
   },
   "outputs": [],
   "source": [
    "# a path to write the simulation results\n",
    "path = \"out/bigraph/hello\""
   ]
  },
  {
   "cell_type": "code",
   "execution_count": 27,
   "id": "e835de82",
   "metadata": {
    "slideshow": {
     "slide_type": "fragment"
    }
   },
   "outputs": [],
   "source": [
    "# we must set a number of steps to simulate as this system would otherwise run forever!\n",
    "steps = 5"
   ]
  },
  {
   "cell_type": "code",
   "execution_count": 28,
   "id": "fc69cea5",
   "metadata": {
    "slideshow": {
     "slide_type": "fragment"
    }
   },
   "outputs": [],
   "source": [
    "# simulate the system\n",
    "results = hello_world.simulate(path=path, steps=steps)"
   ]
  },
  {
   "cell_type": "code",
   "execution_count": 29,
   "id": "0a5aeaa2",
   "metadata": {
    "slideshow": {
     "slide_type": "subslide"
    }
   },
   "outputs": [
    {
     "name": "stdout",
     "output_type": "stream",
     "text": [
      "Hello\n",
      "Hello.World\n",
      "Hello.World.World\n",
      "Hello.World.World.World\n",
      "Hello.World.World.World.World\n",
      "Hello.World.World.World.World.World\n",
      "Hello.World.World.World.World.World.World\n"
     ]
    }
   ],
   "source": [
    "for transition in results:\n",
    "    print(transition)"
   ]
  },
  {
   "cell_type": "markdown",
   "id": "651855c1",
   "metadata": {
    "slideshow": {
     "slide_type": "subslide"
    }
   },
   "source": [
    "Let's visualize all these transitions!"
   ]
  },
  {
   "cell_type": "code",
   "execution_count": 32,
   "id": "41f3136f",
   "metadata": {
    "scrolled": false,
    "slideshow": {
     "slide_type": "fragment"
    }
   },
   "outputs": [
    {
     "data": {
      "image/svg+xml": [
       "<svg xmlns=\"http://www.w3.org/2000/svg\" xmlns:xlink=\"http://www.w3.org/1999/xlink\" width=\"58pt\" height=\"84pt\" viewBox=\"0.00 0.00 58.00 84.00\">\n",
       "<g id=\"graph0\" class=\"graph\" transform=\"scale(1 1) rotate(0) translate(4 80)\">\n",
       "<title>0.svg</title>\n",
       "<polygon fill=\"white\" stroke=\"transparent\" points=\"-4,4 -4,-80 54,-80 54,4 -4,4\"/>\n",
       "<!-- r0 -->\n",
       "<g id=\"node1\" class=\"node\">\n",
       "<title>r0</title>\n",
       "<polygon fill=\"none\" stroke=\"black\" stroke-dasharray=\"5,2\" points=\"35.5,-76 14.5,-76 14.5,-58 35.5,-58 35.5,-76\"/>\n",
       "<text text-anchor=\"middle\" x=\"25\" y=\"-64.8\" font-family=\"serif\" font-size=\"9.00\">0</text>\n",
       "</g>\n",
       "<!-- v0 -->\n",
       "<g id=\"v0_Hello\" class=\"node\">\n",
       "<title>v0</title>\n",
       "<ellipse fill=\"none\" stroke=\"black\" cx=\"25\" cy=\"-11\" rx=\"25\" ry=\"11\"/>\n",
       "<text text-anchor=\"middle\" x=\"25\" y=\"-8.8\" font-family=\"sans-serif\" font-size=\"9.00\">Hello</text>\n",
       "</g>\n",
       "<!-- r0&#45;&gt;v0 -->\n",
       "<g id=\"edge1\" class=\"edge\">\n",
       "<title>r0-&gt;v0</title>\n",
       "<path fill=\"none\" stroke=\"black\" d=\"M25,-57.56C25,-49.45 25,-37.01 25,-27.18\"/>\n",
       "<polygon fill=\"black\" stroke=\"black\" points=\"25,-22.03 27.25,-27.03 25,-24.53 25,-27.03 25,-27.03 25,-27.03 25,-24.53 22.75,-27.03 25,-22.03 25,-22.03\"/>\n",
       "</g>\n",
       "</g>\n",
       "</svg>"
      ],
      "text/plain": [
       "<IPython.core.display.SVG object>"
      ]
     },
     "metadata": {},
     "output_type": "display_data"
    },
    {
     "data": {
      "image/svg+xml": [
       "<svg xmlns=\"http://www.w3.org/2000/svg\" xmlns:xlink=\"http://www.w3.org/1999/xlink\" width=\"58pt\" height=\"142pt\" viewBox=\"0.00 0.00 58.00 142.00\">\n",
       "<g id=\"graph0\" class=\"graph\" transform=\"scale(1 1) rotate(0) translate(4 138)\">\n",
       "<title>1.svg</title>\n",
       "<polygon fill=\"white\" stroke=\"transparent\" points=\"-4,4 -4,-138 54,-138 54,4 -4,4\"/>\n",
       "<!-- r0 -->\n",
       "<g id=\"node1\" class=\"node\">\n",
       "<title>r0</title>\n",
       "<polygon fill=\"none\" stroke=\"black\" stroke-dasharray=\"5,2\" points=\"35.5,-134 14.5,-134 14.5,-116 35.5,-116 35.5,-134\"/>\n",
       "<text text-anchor=\"middle\" x=\"25\" y=\"-122.8\" font-family=\"serif\" font-size=\"9.00\">0</text>\n",
       "</g>\n",
       "<!-- v0 -->\n",
       "<g id=\"v0_Hello\" class=\"node\">\n",
       "<title>v0</title>\n",
       "<ellipse fill=\"none\" stroke=\"black\" cx=\"25\" cy=\"-69\" rx=\"25\" ry=\"11\"/>\n",
       "<text text-anchor=\"middle\" x=\"25\" y=\"-66.8\" font-family=\"sans-serif\" font-size=\"9.00\">Hello</text>\n",
       "</g>\n",
       "<!-- r0&#45;&gt;v0 -->\n",
       "<g id=\"edge1\" class=\"edge\">\n",
       "<title>r0-&gt;v0</title>\n",
       "<path fill=\"none\" stroke=\"black\" d=\"M25,-115.56C25,-107.45 25,-95.01 25,-85.18\"/>\n",
       "<polygon fill=\"black\" stroke=\"black\" points=\"25,-80.03 27.25,-85.03 25,-82.53 25,-85.03 25,-85.03 25,-85.03 25,-82.53 22.75,-85.03 25,-80.03 25,-80.03\"/>\n",
       "</g>\n",
       "<!-- v1 -->\n",
       "<g id=\"v1_World\" class=\"node\">\n",
       "<title>v1</title>\n",
       "<ellipse fill=\"none\" stroke=\"black\" cx=\"25\" cy=\"-11\" rx=\"25\" ry=\"11\"/>\n",
       "<text text-anchor=\"middle\" x=\"25\" y=\"-8.8\" font-family=\"sans-serif\" font-size=\"9.00\">World</text>\n",
       "</g>\n",
       "<!-- v0&#45;&gt;v1 -->\n",
       "<g id=\"edge2\" class=\"edge\">\n",
       "<title>v0-&gt;v1</title>\n",
       "<path fill=\"none\" stroke=\"black\" d=\"M25,-57.99C25,-49.49 25,-37.17 25,-27.42\"/>\n",
       "<polygon fill=\"black\" stroke=\"black\" points=\"25,-22.3 27.25,-27.3 25,-24.8 25,-27.3 25,-27.3 25,-27.3 25,-24.8 22.75,-27.3 25,-22.3 25,-22.3\"/>\n",
       "</g>\n",
       "</g>\n",
       "</svg>"
      ],
      "text/plain": [
       "<IPython.core.display.SVG object>"
      ]
     },
     "metadata": {},
     "output_type": "display_data"
    },
    {
     "data": {
      "image/svg+xml": [
       "<svg xmlns=\"http://www.w3.org/2000/svg\" xmlns:xlink=\"http://www.w3.org/1999/xlink\" width=\"58pt\" height=\"200pt\" viewBox=\"0.00 0.00 58.00 200.00\">\n",
       "<g id=\"graph0\" class=\"graph\" transform=\"scale(1 1) rotate(0) translate(4 196)\">\n",
       "<title>2.svg</title>\n",
       "<polygon fill=\"white\" stroke=\"transparent\" points=\"-4,4 -4,-196 54,-196 54,4 -4,4\"/>\n",
       "<!-- r0 -->\n",
       "<g id=\"node1\" class=\"node\">\n",
       "<title>r0</title>\n",
       "<polygon fill=\"none\" stroke=\"black\" stroke-dasharray=\"5,2\" points=\"35.5,-192 14.5,-192 14.5,-174 35.5,-174 35.5,-192\"/>\n",
       "<text text-anchor=\"middle\" x=\"25\" y=\"-180.8\" font-family=\"serif\" font-size=\"9.00\">0</text>\n",
       "</g>\n",
       "<!-- v0 -->\n",
       "<g id=\"v0_Hello\" class=\"node\">\n",
       "<title>v0</title>\n",
       "<ellipse fill=\"none\" stroke=\"black\" cx=\"25\" cy=\"-127\" rx=\"25\" ry=\"11\"/>\n",
       "<text text-anchor=\"middle\" x=\"25\" y=\"-124.8\" font-family=\"sans-serif\" font-size=\"9.00\">Hello</text>\n",
       "</g>\n",
       "<!-- r0&#45;&gt;v0 -->\n",
       "<g id=\"edge1\" class=\"edge\">\n",
       "<title>r0-&gt;v0</title>\n",
       "<path fill=\"none\" stroke=\"black\" d=\"M25,-173.56C25,-165.45 25,-153.01 25,-143.18\"/>\n",
       "<polygon fill=\"black\" stroke=\"black\" points=\"25,-138.03 27.25,-143.03 25,-140.53 25,-143.03 25,-143.03 25,-143.03 25,-140.53 22.75,-143.03 25,-138.03 25,-138.03\"/>\n",
       "</g>\n",
       "<!-- v1 -->\n",
       "<g id=\"v1_World\" class=\"node\">\n",
       "<title>v1</title>\n",
       "<ellipse fill=\"none\" stroke=\"black\" cx=\"25\" cy=\"-69\" rx=\"25\" ry=\"11\"/>\n",
       "<text text-anchor=\"middle\" x=\"25\" y=\"-66.8\" font-family=\"sans-serif\" font-size=\"9.00\">World</text>\n",
       "</g>\n",
       "<!-- v0&#45;&gt;v1 -->\n",
       "<g id=\"edge2\" class=\"edge\">\n",
       "<title>v0-&gt;v1</title>\n",
       "<path fill=\"none\" stroke=\"black\" d=\"M25,-115.99C25,-107.49 25,-95.17 25,-85.42\"/>\n",
       "<polygon fill=\"black\" stroke=\"black\" points=\"25,-80.3 27.25,-85.3 25,-82.8 25,-85.3 25,-85.3 25,-85.3 25,-82.8 22.75,-85.3 25,-80.3 25,-80.3\"/>\n",
       "</g>\n",
       "<!-- v2 -->\n",
       "<g id=\"v2_World\" class=\"node\">\n",
       "<title>v2</title>\n",
       "<ellipse fill=\"none\" stroke=\"black\" cx=\"25\" cy=\"-11\" rx=\"25\" ry=\"11\"/>\n",
       "<text text-anchor=\"middle\" x=\"25\" y=\"-8.8\" font-family=\"sans-serif\" font-size=\"9.00\">World</text>\n",
       "</g>\n",
       "<!-- v1&#45;&gt;v2 -->\n",
       "<g id=\"edge3\" class=\"edge\">\n",
       "<title>v1-&gt;v2</title>\n",
       "<path fill=\"none\" stroke=\"black\" d=\"M25,-57.99C25,-49.49 25,-37.17 25,-27.42\"/>\n",
       "<polygon fill=\"black\" stroke=\"black\" points=\"25,-22.3 27.25,-27.3 25,-24.8 25,-27.3 25,-27.3 25,-27.3 25,-24.8 22.75,-27.3 25,-22.3 25,-22.3\"/>\n",
       "</g>\n",
       "</g>\n",
       "</svg>"
      ],
      "text/plain": [
       "<IPython.core.display.SVG object>"
      ]
     },
     "metadata": {},
     "output_type": "display_data"
    },
    {
     "data": {
      "image/svg+xml": [
       "<svg xmlns=\"http://www.w3.org/2000/svg\" xmlns:xlink=\"http://www.w3.org/1999/xlink\" width=\"58pt\" height=\"258pt\" viewBox=\"0.00 0.00 58.00 258.00\">\n",
       "<g id=\"graph0\" class=\"graph\" transform=\"scale(1 1) rotate(0) translate(4 254)\">\n",
       "<title>3.svg</title>\n",
       "<polygon fill=\"white\" stroke=\"transparent\" points=\"-4,4 -4,-254 54,-254 54,4 -4,4\"/>\n",
       "<!-- r0 -->\n",
       "<g id=\"node1\" class=\"node\">\n",
       "<title>r0</title>\n",
       "<polygon fill=\"none\" stroke=\"black\" stroke-dasharray=\"5,2\" points=\"35.5,-250 14.5,-250 14.5,-232 35.5,-232 35.5,-250\"/>\n",
       "<text text-anchor=\"middle\" x=\"25\" y=\"-238.8\" font-family=\"serif\" font-size=\"9.00\">0</text>\n",
       "</g>\n",
       "<!-- v0 -->\n",
       "<g id=\"v0_Hello\" class=\"node\">\n",
       "<title>v0</title>\n",
       "<ellipse fill=\"none\" stroke=\"black\" cx=\"25\" cy=\"-185\" rx=\"25\" ry=\"11\"/>\n",
       "<text text-anchor=\"middle\" x=\"25\" y=\"-182.8\" font-family=\"sans-serif\" font-size=\"9.00\">Hello</text>\n",
       "</g>\n",
       "<!-- r0&#45;&gt;v0 -->\n",
       "<g id=\"edge1\" class=\"edge\">\n",
       "<title>r0-&gt;v0</title>\n",
       "<path fill=\"none\" stroke=\"black\" d=\"M25,-231.56C25,-223.45 25,-211.01 25,-201.18\"/>\n",
       "<polygon fill=\"black\" stroke=\"black\" points=\"25,-196.03 27.25,-201.03 25,-198.53 25,-201.03 25,-201.03 25,-201.03 25,-198.53 22.75,-201.03 25,-196.03 25,-196.03\"/>\n",
       "</g>\n",
       "<!-- v1 -->\n",
       "<g id=\"v1_World\" class=\"node\">\n",
       "<title>v1</title>\n",
       "<ellipse fill=\"none\" stroke=\"black\" cx=\"25\" cy=\"-127\" rx=\"25\" ry=\"11\"/>\n",
       "<text text-anchor=\"middle\" x=\"25\" y=\"-124.8\" font-family=\"sans-serif\" font-size=\"9.00\">World</text>\n",
       "</g>\n",
       "<!-- v0&#45;&gt;v1 -->\n",
       "<g id=\"edge2\" class=\"edge\">\n",
       "<title>v0-&gt;v1</title>\n",
       "<path fill=\"none\" stroke=\"black\" d=\"M25,-173.99C25,-165.49 25,-153.17 25,-143.42\"/>\n",
       "<polygon fill=\"black\" stroke=\"black\" points=\"25,-138.3 27.25,-143.3 25,-140.8 25,-143.3 25,-143.3 25,-143.3 25,-140.8 22.75,-143.3 25,-138.3 25,-138.3\"/>\n",
       "</g>\n",
       "<!-- v2 -->\n",
       "<g id=\"v2_World\" class=\"node\">\n",
       "<title>v2</title>\n",
       "<ellipse fill=\"none\" stroke=\"black\" cx=\"25\" cy=\"-69\" rx=\"25\" ry=\"11\"/>\n",
       "<text text-anchor=\"middle\" x=\"25\" y=\"-66.8\" font-family=\"sans-serif\" font-size=\"9.00\">World</text>\n",
       "</g>\n",
       "<!-- v1&#45;&gt;v2 -->\n",
       "<g id=\"edge3\" class=\"edge\">\n",
       "<title>v1-&gt;v2</title>\n",
       "<path fill=\"none\" stroke=\"black\" d=\"M25,-115.99C25,-107.49 25,-95.17 25,-85.42\"/>\n",
       "<polygon fill=\"black\" stroke=\"black\" points=\"25,-80.3 27.25,-85.3 25,-82.8 25,-85.3 25,-85.3 25,-85.3 25,-82.8 22.75,-85.3 25,-80.3 25,-80.3\"/>\n",
       "</g>\n",
       "<!-- v3 -->\n",
       "<g id=\"v3_World\" class=\"node\">\n",
       "<title>v3</title>\n",
       "<ellipse fill=\"none\" stroke=\"black\" cx=\"25\" cy=\"-11\" rx=\"25\" ry=\"11\"/>\n",
       "<text text-anchor=\"middle\" x=\"25\" y=\"-8.8\" font-family=\"sans-serif\" font-size=\"9.00\">World</text>\n",
       "</g>\n",
       "<!-- v2&#45;&gt;v3 -->\n",
       "<g id=\"edge4\" class=\"edge\">\n",
       "<title>v2-&gt;v3</title>\n",
       "<path fill=\"none\" stroke=\"black\" d=\"M25,-57.99C25,-49.49 25,-37.17 25,-27.42\"/>\n",
       "<polygon fill=\"black\" stroke=\"black\" points=\"25,-22.3 27.25,-27.3 25,-24.8 25,-27.3 25,-27.3 25,-27.3 25,-24.8 22.75,-27.3 25,-22.3 25,-22.3\"/>\n",
       "</g>\n",
       "</g>\n",
       "</svg>"
      ],
      "text/plain": [
       "<IPython.core.display.SVG object>"
      ]
     },
     "metadata": {},
     "output_type": "display_data"
    },
    {
     "data": {
      "image/svg+xml": [
       "<svg xmlns=\"http://www.w3.org/2000/svg\" xmlns:xlink=\"http://www.w3.org/1999/xlink\" width=\"58pt\" height=\"316pt\" viewBox=\"0.00 0.00 58.00 316.00\">\n",
       "<g id=\"graph0\" class=\"graph\" transform=\"scale(1 1) rotate(0) translate(4 312)\">\n",
       "<title>4.svg</title>\n",
       "<polygon fill=\"white\" stroke=\"transparent\" points=\"-4,4 -4,-312 54,-312 54,4 -4,4\"/>\n",
       "<!-- r0 -->\n",
       "<g id=\"node1\" class=\"node\">\n",
       "<title>r0</title>\n",
       "<polygon fill=\"none\" stroke=\"black\" stroke-dasharray=\"5,2\" points=\"35.5,-308 14.5,-308 14.5,-290 35.5,-290 35.5,-308\"/>\n",
       "<text text-anchor=\"middle\" x=\"25\" y=\"-296.8\" font-family=\"serif\" font-size=\"9.00\">0</text>\n",
       "</g>\n",
       "<!-- v0 -->\n",
       "<g id=\"v0_Hello\" class=\"node\">\n",
       "<title>v0</title>\n",
       "<ellipse fill=\"none\" stroke=\"black\" cx=\"25\" cy=\"-243\" rx=\"25\" ry=\"11\"/>\n",
       "<text text-anchor=\"middle\" x=\"25\" y=\"-240.8\" font-family=\"sans-serif\" font-size=\"9.00\">Hello</text>\n",
       "</g>\n",
       "<!-- r0&#45;&gt;v0 -->\n",
       "<g id=\"edge1\" class=\"edge\">\n",
       "<title>r0-&gt;v0</title>\n",
       "<path fill=\"none\" stroke=\"black\" d=\"M25,-289.56C25,-281.45 25,-269.01 25,-259.18\"/>\n",
       "<polygon fill=\"black\" stroke=\"black\" points=\"25,-254.03 27.25,-259.03 25,-256.53 25,-259.03 25,-259.03 25,-259.03 25,-256.53 22.75,-259.03 25,-254.03 25,-254.03\"/>\n",
       "</g>\n",
       "<!-- v1 -->\n",
       "<g id=\"v1_World\" class=\"node\">\n",
       "<title>v1</title>\n",
       "<ellipse fill=\"none\" stroke=\"black\" cx=\"25\" cy=\"-185\" rx=\"25\" ry=\"11\"/>\n",
       "<text text-anchor=\"middle\" x=\"25\" y=\"-182.8\" font-family=\"sans-serif\" font-size=\"9.00\">World</text>\n",
       "</g>\n",
       "<!-- v0&#45;&gt;v1 -->\n",
       "<g id=\"edge2\" class=\"edge\">\n",
       "<title>v0-&gt;v1</title>\n",
       "<path fill=\"none\" stroke=\"black\" d=\"M25,-231.99C25,-223.49 25,-211.17 25,-201.42\"/>\n",
       "<polygon fill=\"black\" stroke=\"black\" points=\"25,-196.3 27.25,-201.3 25,-198.8 25,-201.3 25,-201.3 25,-201.3 25,-198.8 22.75,-201.3 25,-196.3 25,-196.3\"/>\n",
       "</g>\n",
       "<!-- v2 -->\n",
       "<g id=\"v2_World\" class=\"node\">\n",
       "<title>v2</title>\n",
       "<ellipse fill=\"none\" stroke=\"black\" cx=\"25\" cy=\"-127\" rx=\"25\" ry=\"11\"/>\n",
       "<text text-anchor=\"middle\" x=\"25\" y=\"-124.8\" font-family=\"sans-serif\" font-size=\"9.00\">World</text>\n",
       "</g>\n",
       "<!-- v1&#45;&gt;v2 -->\n",
       "<g id=\"edge3\" class=\"edge\">\n",
       "<title>v1-&gt;v2</title>\n",
       "<path fill=\"none\" stroke=\"black\" d=\"M25,-173.99C25,-165.49 25,-153.17 25,-143.42\"/>\n",
       "<polygon fill=\"black\" stroke=\"black\" points=\"25,-138.3 27.25,-143.3 25,-140.8 25,-143.3 25,-143.3 25,-143.3 25,-140.8 22.75,-143.3 25,-138.3 25,-138.3\"/>\n",
       "</g>\n",
       "<!-- v3 -->\n",
       "<g id=\"v3_World\" class=\"node\">\n",
       "<title>v3</title>\n",
       "<ellipse fill=\"none\" stroke=\"black\" cx=\"25\" cy=\"-69\" rx=\"25\" ry=\"11\"/>\n",
       "<text text-anchor=\"middle\" x=\"25\" y=\"-66.8\" font-family=\"sans-serif\" font-size=\"9.00\">World</text>\n",
       "</g>\n",
       "<!-- v2&#45;&gt;v3 -->\n",
       "<g id=\"edge4\" class=\"edge\">\n",
       "<title>v2-&gt;v3</title>\n",
       "<path fill=\"none\" stroke=\"black\" d=\"M25,-115.99C25,-107.49 25,-95.17 25,-85.42\"/>\n",
       "<polygon fill=\"black\" stroke=\"black\" points=\"25,-80.3 27.25,-85.3 25,-82.8 25,-85.3 25,-85.3 25,-85.3 25,-82.8 22.75,-85.3 25,-80.3 25,-80.3\"/>\n",
       "</g>\n",
       "<!-- v4 -->\n",
       "<g id=\"v4_World\" class=\"node\">\n",
       "<title>v4</title>\n",
       "<ellipse fill=\"none\" stroke=\"black\" cx=\"25\" cy=\"-11\" rx=\"25\" ry=\"11\"/>\n",
       "<text text-anchor=\"middle\" x=\"25\" y=\"-8.8\" font-family=\"sans-serif\" font-size=\"9.00\">World</text>\n",
       "</g>\n",
       "<!-- v3&#45;&gt;v4 -->\n",
       "<g id=\"edge5\" class=\"edge\">\n",
       "<title>v3-&gt;v4</title>\n",
       "<path fill=\"none\" stroke=\"black\" d=\"M25,-57.99C25,-49.49 25,-37.17 25,-27.42\"/>\n",
       "<polygon fill=\"black\" stroke=\"black\" points=\"25,-22.3 27.25,-27.3 25,-24.8 25,-27.3 25,-27.3 25,-27.3 25,-24.8 22.75,-27.3 25,-22.3 25,-22.3\"/>\n",
       "</g>\n",
       "</g>\n",
       "</svg>"
      ],
      "text/plain": [
       "<IPython.core.display.SVG object>"
      ]
     },
     "metadata": {},
     "output_type": "display_data"
    },
    {
     "data": {
      "image/svg+xml": [
       "<svg xmlns=\"http://www.w3.org/2000/svg\" xmlns:xlink=\"http://www.w3.org/1999/xlink\" width=\"58pt\" height=\"374pt\" viewBox=\"0.00 0.00 58.00 374.00\">\n",
       "<g id=\"graph0\" class=\"graph\" transform=\"scale(1 1) rotate(0) translate(4 370)\">\n",
       "<title>5.svg</title>\n",
       "<polygon fill=\"white\" stroke=\"transparent\" points=\"-4,4 -4,-370 54,-370 54,4 -4,4\"/>\n",
       "<!-- r0 -->\n",
       "<g id=\"node1\" class=\"node\">\n",
       "<title>r0</title>\n",
       "<polygon fill=\"none\" stroke=\"black\" stroke-dasharray=\"5,2\" points=\"35.5,-366 14.5,-366 14.5,-348 35.5,-348 35.5,-366\"/>\n",
       "<text text-anchor=\"middle\" x=\"25\" y=\"-354.8\" font-family=\"serif\" font-size=\"9.00\">0</text>\n",
       "</g>\n",
       "<!-- v0 -->\n",
       "<g id=\"v0_Hello\" class=\"node\">\n",
       "<title>v0</title>\n",
       "<ellipse fill=\"none\" stroke=\"black\" cx=\"25\" cy=\"-301\" rx=\"25\" ry=\"11\"/>\n",
       "<text text-anchor=\"middle\" x=\"25\" y=\"-298.8\" font-family=\"sans-serif\" font-size=\"9.00\">Hello</text>\n",
       "</g>\n",
       "<!-- r0&#45;&gt;v0 -->\n",
       "<g id=\"edge1\" class=\"edge\">\n",
       "<title>r0-&gt;v0</title>\n",
       "<path fill=\"none\" stroke=\"black\" d=\"M25,-347.56C25,-339.45 25,-327.01 25,-317.18\"/>\n",
       "<polygon fill=\"black\" stroke=\"black\" points=\"25,-312.03 27.25,-317.03 25,-314.53 25,-317.03 25,-317.03 25,-317.03 25,-314.53 22.75,-317.03 25,-312.03 25,-312.03\"/>\n",
       "</g>\n",
       "<!-- v1 -->\n",
       "<g id=\"v1_World\" class=\"node\">\n",
       "<title>v1</title>\n",
       "<ellipse fill=\"none\" stroke=\"black\" cx=\"25\" cy=\"-243\" rx=\"25\" ry=\"11\"/>\n",
       "<text text-anchor=\"middle\" x=\"25\" y=\"-240.8\" font-family=\"sans-serif\" font-size=\"9.00\">World</text>\n",
       "</g>\n",
       "<!-- v0&#45;&gt;v1 -->\n",
       "<g id=\"edge2\" class=\"edge\">\n",
       "<title>v0-&gt;v1</title>\n",
       "<path fill=\"none\" stroke=\"black\" d=\"M25,-289.99C25,-281.49 25,-269.17 25,-259.42\"/>\n",
       "<polygon fill=\"black\" stroke=\"black\" points=\"25,-254.3 27.25,-259.3 25,-256.8 25,-259.3 25,-259.3 25,-259.3 25,-256.8 22.75,-259.3 25,-254.3 25,-254.3\"/>\n",
       "</g>\n",
       "<!-- v2 -->\n",
       "<g id=\"v2_World\" class=\"node\">\n",
       "<title>v2</title>\n",
       "<ellipse fill=\"none\" stroke=\"black\" cx=\"25\" cy=\"-185\" rx=\"25\" ry=\"11\"/>\n",
       "<text text-anchor=\"middle\" x=\"25\" y=\"-182.8\" font-family=\"sans-serif\" font-size=\"9.00\">World</text>\n",
       "</g>\n",
       "<!-- v1&#45;&gt;v2 -->\n",
       "<g id=\"edge3\" class=\"edge\">\n",
       "<title>v1-&gt;v2</title>\n",
       "<path fill=\"none\" stroke=\"black\" d=\"M25,-231.99C25,-223.49 25,-211.17 25,-201.42\"/>\n",
       "<polygon fill=\"black\" stroke=\"black\" points=\"25,-196.3 27.25,-201.3 25,-198.8 25,-201.3 25,-201.3 25,-201.3 25,-198.8 22.75,-201.3 25,-196.3 25,-196.3\"/>\n",
       "</g>\n",
       "<!-- v3 -->\n",
       "<g id=\"v3_World\" class=\"node\">\n",
       "<title>v3</title>\n",
       "<ellipse fill=\"none\" stroke=\"black\" cx=\"25\" cy=\"-127\" rx=\"25\" ry=\"11\"/>\n",
       "<text text-anchor=\"middle\" x=\"25\" y=\"-124.8\" font-family=\"sans-serif\" font-size=\"9.00\">World</text>\n",
       "</g>\n",
       "<!-- v2&#45;&gt;v3 -->\n",
       "<g id=\"edge4\" class=\"edge\">\n",
       "<title>v2-&gt;v3</title>\n",
       "<path fill=\"none\" stroke=\"black\" d=\"M25,-173.99C25,-165.49 25,-153.17 25,-143.42\"/>\n",
       "<polygon fill=\"black\" stroke=\"black\" points=\"25,-138.3 27.25,-143.3 25,-140.8 25,-143.3 25,-143.3 25,-143.3 25,-140.8 22.75,-143.3 25,-138.3 25,-138.3\"/>\n",
       "</g>\n",
       "<!-- v4 -->\n",
       "<g id=\"v4_World\" class=\"node\">\n",
       "<title>v4</title>\n",
       "<ellipse fill=\"none\" stroke=\"black\" cx=\"25\" cy=\"-69\" rx=\"25\" ry=\"11\"/>\n",
       "<text text-anchor=\"middle\" x=\"25\" y=\"-66.8\" font-family=\"sans-serif\" font-size=\"9.00\">World</text>\n",
       "</g>\n",
       "<!-- v3&#45;&gt;v4 -->\n",
       "<g id=\"edge5\" class=\"edge\">\n",
       "<title>v3-&gt;v4</title>\n",
       "<path fill=\"none\" stroke=\"black\" d=\"M25,-115.99C25,-107.49 25,-95.17 25,-85.42\"/>\n",
       "<polygon fill=\"black\" stroke=\"black\" points=\"25,-80.3 27.25,-85.3 25,-82.8 25,-85.3 25,-85.3 25,-85.3 25,-82.8 22.75,-85.3 25,-80.3 25,-80.3\"/>\n",
       "</g>\n",
       "<!-- v5 -->\n",
       "<g id=\"v5_World\" class=\"node\">\n",
       "<title>v5</title>\n",
       "<ellipse fill=\"none\" stroke=\"black\" cx=\"25\" cy=\"-11\" rx=\"25\" ry=\"11\"/>\n",
       "<text text-anchor=\"middle\" x=\"25\" y=\"-8.8\" font-family=\"sans-serif\" font-size=\"9.00\">World</text>\n",
       "</g>\n",
       "<!-- v4&#45;&gt;v5 -->\n",
       "<g id=\"edge6\" class=\"edge\">\n",
       "<title>v4-&gt;v5</title>\n",
       "<path fill=\"none\" stroke=\"black\" d=\"M25,-57.99C25,-49.49 25,-37.17 25,-27.42\"/>\n",
       "<polygon fill=\"black\" stroke=\"black\" points=\"25,-22.3 27.25,-27.3 25,-24.8 25,-27.3 25,-27.3 25,-27.3 25,-24.8 22.75,-27.3 25,-22.3 25,-22.3\"/>\n",
       "</g>\n",
       "</g>\n",
       "</svg>"
      ],
      "text/plain": [
       "<IPython.core.display.SVG object>"
      ]
     },
     "metadata": {},
     "output_type": "display_data"
    },
    {
     "data": {
      "image/svg+xml": [
       "<svg xmlns=\"http://www.w3.org/2000/svg\" xmlns:xlink=\"http://www.w3.org/1999/xlink\" width=\"58pt\" height=\"432pt\" viewBox=\"0.00 0.00 58.00 432.00\">\n",
       "<g id=\"graph0\" class=\"graph\" transform=\"scale(1 1) rotate(0) translate(4 428)\">\n",
       "<title>6.svg</title>\n",
       "<polygon fill=\"white\" stroke=\"transparent\" points=\"-4,4 -4,-428 54,-428 54,4 -4,4\"/>\n",
       "<!-- r0 -->\n",
       "<g id=\"node1\" class=\"node\">\n",
       "<title>r0</title>\n",
       "<polygon fill=\"none\" stroke=\"black\" stroke-dasharray=\"5,2\" points=\"35.5,-424 14.5,-424 14.5,-406 35.5,-406 35.5,-424\"/>\n",
       "<text text-anchor=\"middle\" x=\"25\" y=\"-412.8\" font-family=\"serif\" font-size=\"9.00\">0</text>\n",
       "</g>\n",
       "<!-- v0 -->\n",
       "<g id=\"v0_Hello\" class=\"node\">\n",
       "<title>v0</title>\n",
       "<ellipse fill=\"none\" stroke=\"black\" cx=\"25\" cy=\"-359\" rx=\"25\" ry=\"11\"/>\n",
       "<text text-anchor=\"middle\" x=\"25\" y=\"-356.8\" font-family=\"sans-serif\" font-size=\"9.00\">Hello</text>\n",
       "</g>\n",
       "<!-- r0&#45;&gt;v0 -->\n",
       "<g id=\"edge1\" class=\"edge\">\n",
       "<title>r0-&gt;v0</title>\n",
       "<path fill=\"none\" stroke=\"black\" d=\"M25,-405.56C25,-397.45 25,-385.01 25,-375.18\"/>\n",
       "<polygon fill=\"black\" stroke=\"black\" points=\"25,-370.03 27.25,-375.03 25,-372.53 25,-375.03 25,-375.03 25,-375.03 25,-372.53 22.75,-375.03 25,-370.03 25,-370.03\"/>\n",
       "</g>\n",
       "<!-- v1 -->\n",
       "<g id=\"v1_World\" class=\"node\">\n",
       "<title>v1</title>\n",
       "<ellipse fill=\"none\" stroke=\"black\" cx=\"25\" cy=\"-301\" rx=\"25\" ry=\"11\"/>\n",
       "<text text-anchor=\"middle\" x=\"25\" y=\"-298.8\" font-family=\"sans-serif\" font-size=\"9.00\">World</text>\n",
       "</g>\n",
       "<!-- v0&#45;&gt;v1 -->\n",
       "<g id=\"edge2\" class=\"edge\">\n",
       "<title>v0-&gt;v1</title>\n",
       "<path fill=\"none\" stroke=\"black\" d=\"M25,-347.99C25,-339.49 25,-327.17 25,-317.42\"/>\n",
       "<polygon fill=\"black\" stroke=\"black\" points=\"25,-312.3 27.25,-317.3 25,-314.8 25,-317.3 25,-317.3 25,-317.3 25,-314.8 22.75,-317.3 25,-312.3 25,-312.3\"/>\n",
       "</g>\n",
       "<!-- v2 -->\n",
       "<g id=\"v2_World\" class=\"node\">\n",
       "<title>v2</title>\n",
       "<ellipse fill=\"none\" stroke=\"black\" cx=\"25\" cy=\"-243\" rx=\"25\" ry=\"11\"/>\n",
       "<text text-anchor=\"middle\" x=\"25\" y=\"-240.8\" font-family=\"sans-serif\" font-size=\"9.00\">World</text>\n",
       "</g>\n",
       "<!-- v1&#45;&gt;v2 -->\n",
       "<g id=\"edge3\" class=\"edge\">\n",
       "<title>v1-&gt;v2</title>\n",
       "<path fill=\"none\" stroke=\"black\" d=\"M25,-289.99C25,-281.49 25,-269.17 25,-259.42\"/>\n",
       "<polygon fill=\"black\" stroke=\"black\" points=\"25,-254.3 27.25,-259.3 25,-256.8 25,-259.3 25,-259.3 25,-259.3 25,-256.8 22.75,-259.3 25,-254.3 25,-254.3\"/>\n",
       "</g>\n",
       "<!-- v3 -->\n",
       "<g id=\"v3_World\" class=\"node\">\n",
       "<title>v3</title>\n",
       "<ellipse fill=\"none\" stroke=\"black\" cx=\"25\" cy=\"-185\" rx=\"25\" ry=\"11\"/>\n",
       "<text text-anchor=\"middle\" x=\"25\" y=\"-182.8\" font-family=\"sans-serif\" font-size=\"9.00\">World</text>\n",
       "</g>\n",
       "<!-- v2&#45;&gt;v3 -->\n",
       "<g id=\"edge4\" class=\"edge\">\n",
       "<title>v2-&gt;v3</title>\n",
       "<path fill=\"none\" stroke=\"black\" d=\"M25,-231.99C25,-223.49 25,-211.17 25,-201.42\"/>\n",
       "<polygon fill=\"black\" stroke=\"black\" points=\"25,-196.3 27.25,-201.3 25,-198.8 25,-201.3 25,-201.3 25,-201.3 25,-198.8 22.75,-201.3 25,-196.3 25,-196.3\"/>\n",
       "</g>\n",
       "<!-- v4 -->\n",
       "<g id=\"v4_World\" class=\"node\">\n",
       "<title>v4</title>\n",
       "<ellipse fill=\"none\" stroke=\"black\" cx=\"25\" cy=\"-127\" rx=\"25\" ry=\"11\"/>\n",
       "<text text-anchor=\"middle\" x=\"25\" y=\"-124.8\" font-family=\"sans-serif\" font-size=\"9.00\">World</text>\n",
       "</g>\n",
       "<!-- v3&#45;&gt;v4 -->\n",
       "<g id=\"edge5\" class=\"edge\">\n",
       "<title>v3-&gt;v4</title>\n",
       "<path fill=\"none\" stroke=\"black\" d=\"M25,-173.99C25,-165.49 25,-153.17 25,-143.42\"/>\n",
       "<polygon fill=\"black\" stroke=\"black\" points=\"25,-138.3 27.25,-143.3 25,-140.8 25,-143.3 25,-143.3 25,-143.3 25,-140.8 22.75,-143.3 25,-138.3 25,-138.3\"/>\n",
       "</g>\n",
       "<!-- v5 -->\n",
       "<g id=\"v5_World\" class=\"node\">\n",
       "<title>v5</title>\n",
       "<ellipse fill=\"none\" stroke=\"black\" cx=\"25\" cy=\"-69\" rx=\"25\" ry=\"11\"/>\n",
       "<text text-anchor=\"middle\" x=\"25\" y=\"-66.8\" font-family=\"sans-serif\" font-size=\"9.00\">World</text>\n",
       "</g>\n",
       "<!-- v4&#45;&gt;v5 -->\n",
       "<g id=\"edge6\" class=\"edge\">\n",
       "<title>v4-&gt;v5</title>\n",
       "<path fill=\"none\" stroke=\"black\" d=\"M25,-115.99C25,-107.49 25,-95.17 25,-85.42\"/>\n",
       "<polygon fill=\"black\" stroke=\"black\" points=\"25,-80.3 27.25,-85.3 25,-82.8 25,-85.3 25,-85.3 25,-85.3 25,-82.8 22.75,-85.3 25,-80.3 25,-80.3\"/>\n",
       "</g>\n",
       "<!-- v6 -->\n",
       "<g id=\"v6_World\" class=\"node\">\n",
       "<title>v6</title>\n",
       "<ellipse fill=\"none\" stroke=\"black\" cx=\"25\" cy=\"-11\" rx=\"25\" ry=\"11\"/>\n",
       "<text text-anchor=\"middle\" x=\"25\" y=\"-8.8\" font-family=\"sans-serif\" font-size=\"9.00\">World</text>\n",
       "</g>\n",
       "<!-- v5&#45;&gt;v6 -->\n",
       "<g id=\"edge7\" class=\"edge\">\n",
       "<title>v5-&gt;v6</title>\n",
       "<path fill=\"none\" stroke=\"black\" d=\"M25,-57.99C25,-49.49 25,-37.17 25,-27.42\"/>\n",
       "<polygon fill=\"black\" stroke=\"black\" points=\"25,-22.3 27.25,-27.3 25,-24.8 25,-27.3 25,-27.3 25,-27.3 25,-24.8 22.75,-27.3 25,-22.3 25,-22.3\"/>\n",
       "</g>\n",
       "</g>\n",
       "</svg>"
      ],
      "text/plain": [
       "<IPython.core.display.SVG object>"
      ]
     },
     "metadata": {},
     "output_type": "display_data"
    }
   ],
   "source": [
    "transitions = hello_world.read_svg(path=path)\n",
    "for transition in transitions:\n",
    "    display(transition)"
   ]
  },
  {
   "cell_type": "code",
   "execution_count": null,
   "id": "1a03bab5",
   "metadata": {},
   "outputs": [],
   "source": []
  }
 ],
 "metadata": {
  "celltoolbar": "Slideshow",
  "kernelspec": {
   "display_name": "Python 3 (ipykernel)",
   "language": "python",
   "name": "python3"
  },
  "language_info": {
   "codemirror_mode": {
    "name": "ipython",
    "version": 3
   },
   "file_extension": ".py",
   "mimetype": "text/x-python",
   "name": "python",
   "nbconvert_exporter": "python",
   "pygments_lexer": "ipython3",
   "version": "3.10.4"
  }
 },
 "nbformat": 4,
 "nbformat_minor": 5
}
