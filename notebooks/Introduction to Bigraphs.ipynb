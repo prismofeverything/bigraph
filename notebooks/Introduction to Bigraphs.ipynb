{
 "cells": [
  {
   "cell_type": "markdown",
   "id": "bef039a4",
   "metadata": {},
   "source": [
    "# Introduction to Bigraphs\n",
    "\n",
    "Bigraphs were invented by Robin Milner as an extension/generalization of previous process calculi (some of which he invented as well). A process calculus is a way to formally model concurrent and distributed systems, including communication/interactions/synchronizations, along with a set of algebraic laws to reason about them. \n",
    "\n",
    "![example bigraph](img/reaction-example.png)\n",
    "\n",
    "The structure of a bigraph is defined as two superimposed graphs over a single set of nodes, the *place* graph which is modeled as a tree, and the *link* graph which is a set of hyperedges. The place graph represents the relative _location_ of each node (in terms of containment) and the link graph represents communication across place boundaries, ie common signals that all linked nodes share. \n",
    "\n",
    "![bare bigraph](img/bare-bigraph.png)\n",
    "\n",
    "The \"motion\" of a bigraph is accomplished by _reaction rules_, which specify a `redex` showing a bigraph to match and `reactum` that shows the bigraph to replace it by. "
   ]
  },
  {
   "cell_type": "code",
   "execution_count": 1,
   "id": "a386d25e",
   "metadata": {},
   "outputs": [],
   "source": [
    "import os\n",
    "os.chdir('../bigraph')\n",
    "from bigraph import Bigraph, Control, Node, Edge, Parallel, Merge, Big, InGroup, Condition, Reaction, Range, Assign, Init, Param, RuleGroup, Rules, Preds, System, BigraphicalReactiveSystem\n",
    "from parse import bigraph"
   ]
  },
  {
   "cell_type": "markdown",
   "id": "06f2c4bc",
   "metadata": {},
   "source": [
    "## operations\n",
    "\n",
    "You can build complex bigraphs out of simpler bigraphs using the basic operations:\n",
    "* A.B - *nest* (nesting B inside A)\n",
    "* A | B - *merge* (side by side, but in the same region)\n",
    "* A || B - *parallel* (side by side, different regions)\n",
    "* A{b} - *link* (A is linked to edge b)\n",
    "* A(b) - *parameterize* (A has parameter b)"
   ]
  },
  {
   "cell_type": "code",
   "execution_count": 2,
   "id": "6ba41252",
   "metadata": {},
   "outputs": [
    {
     "data": {
      "text/plain": [
       "A.B"
      ]
     },
     "execution_count": 2,
     "metadata": {},
     "output_type": "execute_result"
    }
   ],
   "source": [
    "# example of nesting\n",
    "A = bigraph('A')\n",
    "B = bigraph('B')\n",
    "A.nest(B)"
   ]
  },
  {
   "cell_type": "code",
   "execution_count": 3,
   "id": "1725e2f9",
   "metadata": {},
   "outputs": [
    {
     "data": {
      "text/plain": [
       "A | B"
      ]
     },
     "execution_count": 3,
     "metadata": {},
     "output_type": "execute_result"
    }
   ],
   "source": [
    "# example of merge\n",
    "A = bigraph('A')\n",
    "B = bigraph('B')\n",
    "Merge([A, B])"
   ]
  },
  {
   "cell_type": "code",
   "execution_count": 4,
   "id": "bb8455ac",
   "metadata": {},
   "outputs": [
    {
     "data": {
      "text/plain": [
       "A || B"
      ]
     },
     "execution_count": 4,
     "metadata": {},
     "output_type": "execute_result"
    }
   ],
   "source": [
    "# example of nesting\n",
    "A = bigraph('A')\n",
    "B = bigraph('B')\n",
    "Parallel([A, B])"
   ]
  },
  {
   "cell_type": "code",
   "execution_count": 5,
   "id": "3c95eb9a",
   "metadata": {},
   "outputs": [
    {
     "ename": "Exception",
     "evalue": "cannot link name {name}, all ports have already been named for this node: {self.render()}",
     "output_type": "error",
     "traceback": [
      "\u001b[0;31m---------------------------------------------------------------------------\u001b[0m",
      "\u001b[0;31mException\u001b[0m                                 Traceback (most recent call last)",
      "Input \u001b[0;32mIn [5]\u001b[0m, in \u001b[0;36m<cell line: 4>\u001b[0;34m()\u001b[0m\n\u001b[1;32m      2\u001b[0m A \u001b[38;5;241m=\u001b[39m bigraph(\u001b[38;5;124m'\u001b[39m\u001b[38;5;124mA\u001b[39m\u001b[38;5;124m'\u001b[39m)\n\u001b[1;32m      3\u001b[0m b \u001b[38;5;241m=\u001b[39m \u001b[38;5;124m'\u001b[39m\u001b[38;5;124mb\u001b[39m\u001b[38;5;124m'\u001b[39m\n\u001b[0;32m----> 4\u001b[0m \u001b[43mA\u001b[49m\u001b[38;5;241;43m.\u001b[39;49m\u001b[43mlink\u001b[49m\u001b[43m(\u001b[49m\u001b[43mb\u001b[49m\u001b[43m)\u001b[49m\n",
      "File \u001b[0;32m~/code/bigraph/bigraph/bigraph.py:241\u001b[0m, in \u001b[0;36mNode.link\u001b[0;34m(self, name)\u001b[0m\n\u001b[1;32m    238\u001b[0m \u001b[38;5;66;03m# index = none_index(self.ports.edges)\u001b[39;00m\n\u001b[1;32m    240\u001b[0m \u001b[38;5;28;01mif\u001b[39;00m index \u001b[38;5;241m==\u001b[39m \u001b[38;5;241m-\u001b[39m\u001b[38;5;241m1\u001b[39m:\n\u001b[0;32m--> 241\u001b[0m     \u001b[38;5;28;01mraise\u001b[39;00m \u001b[38;5;167;01mException\u001b[39;00m(\n\u001b[1;32m    242\u001b[0m         \u001b[38;5;124m'\u001b[39m\u001b[38;5;124mcannot link name \u001b[39m\u001b[38;5;132;01m{name}\u001b[39;00m\u001b[38;5;124m, all ports have already been named for this node: \u001b[39m\u001b[38;5;124m{\u001b[39m\u001b[38;5;124mself.render()}\u001b[39m\u001b[38;5;124m'\u001b[39m)\n\u001b[1;32m    244\u001b[0m \u001b[38;5;28mself\u001b[39m\u001b[38;5;241m.\u001b[39mports\u001b[38;5;241m.\u001b[39medges[index] \u001b[38;5;241m=\u001b[39m Edge(name)\n",
      "\u001b[0;31mException\u001b[0m: cannot link name {name}, all ports have already been named for this node: {self.render()}"
     ]
    }
   ],
   "source": [
    "# example of nesting\n",
    "A = bigraph('A')\n",
    "b = 'b'\n",
    "A.link(b)"
   ]
  },
  {
   "cell_type": "code",
   "execution_count": 3,
   "id": "d32ecf12",
   "metadata": {},
   "outputs": [
    {
     "data": {
      "text/plain": [
       "A.B"
      ]
     },
     "execution_count": 3,
     "metadata": {},
     "output_type": "execute_result"
    }
   ],
   "source": [
    "# example of nesting\n",
    "A = bigraph('A')\n",
    "B = bigraph('B')\n",
    "nest = A.nest(B)\n",
    "nest"
   ]
  },
  {
   "cell_type": "code",
   "execution_count": 6,
   "id": "25c466ab",
   "metadata": {},
   "outputs": [
    {
     "data": {
      "text/plain": [
       "A.(B | C{p})"
      ]
     },
     "execution_count": 6,
     "metadata": {},
     "output_type": "execute_result"
    }
   ],
   "source": [
    "sample = 'A.(B | C{p})'\n",
    "bigraph(sample)"
   ]
  },
  {
   "cell_type": "markdown",
   "id": "fcadd591",
   "metadata": {},
   "source": [
    "TODO: show rendered results from running the system\n",
    "\n",
    "TODO: render bigraphs in a nested way"
   ]
  },
  {
   "cell_type": "code",
   "execution_count": null,
   "id": "40b177e6",
   "metadata": {},
   "outputs": [],
   "source": []
  }
 ],
 "metadata": {
  "kernelspec": {
   "display_name": "Python 3 (ipykernel)",
   "language": "python",
   "name": "python3"
  },
  "language_info": {
   "codemirror_mode": {
    "name": "ipython",
    "version": 3
   },
   "file_extension": ".py",
   "mimetype": "text/x-python",
   "name": "python",
   "nbconvert_exporter": "python",
   "pygments_lexer": "ipython3",
   "version": "3.8.5"
  }
 },
 "nbformat": 4,
 "nbformat_minor": 5
}
