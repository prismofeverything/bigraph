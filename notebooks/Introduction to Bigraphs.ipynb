{
 "cells": [
  {
   "cell_type": "markdown",
   "id": "bef039a4",
   "metadata": {
    "slideshow": {
     "slide_type": "slide"
    }
   },
   "source": [
    "# Introduction to Bigraphs\n",
    "\n",
    "Bigraphs were invented by Robin Milner as an extension/generalization of previous process calculi (some of which he invented as well). A process calculus is a way to formally model concurrent and distributed systems, including communication/interactions/synchronizations, along with a set of algebraic laws to reason about them. \n",
    "\n",
    "![bigraph](img/first-bigraph.png)"
   ]
  },
  {
   "cell_type": "markdown",
   "id": "1c74ce3f",
   "metadata": {
    "slideshow": {
     "slide_type": "slide"
    }
   },
   "source": [
    "## space\n",
    "\n",
    "The structure of a bigraph is defined as two superimposed graphs over a single set of nodes \n",
    "- *place* graph (forest) which is modeled as a tree\n",
    "- *link* graph (hypergraph) which is a set of hyperedges \n",
    "\n",
    "![bare bigraph](img/bare-bigraph.png)"
   ]
  },
  {
   "cell_type": "markdown",
   "id": "c2edec0a",
   "metadata": {
    "slideshow": {
     "slide_type": "subslide"
    }
   },
   "source": [
    "### place graph\n",
    "\n",
    "The place graph represents the relative _location_ of each node (in terms of containment).\n",
    "\n",
    "![forest](img/bigraph-and-forest.png)"
   ]
  },
  {
   "cell_type": "markdown",
   "id": "da64aa4c",
   "metadata": {
    "slideshow": {
     "slide_type": "subslide"
    }
   },
   "source": [
    "### link graph\n",
    "\n",
    "The link graph represents communication across place boundaries, ie common signals that all linked nodes share.  \n",
    "\n",
    "![hypergraph](img/bigraph-and-hypergraph.png)"
   ]
  },
  {
   "cell_type": "markdown",
   "id": "ab07b998",
   "metadata": {
    "slideshow": {
     "slide_type": "subslide"
    }
   },
   "source": [
    "![anatomy](img/anatomy-of-bigraphs.png)"
   ]
  },
  {
   "cell_type": "markdown",
   "id": "202eafa2",
   "metadata": {
    "slideshow": {
     "slide_type": "slide"
    }
   },
   "source": [
    "## motion\n",
    "\n",
    "The \"motion\" of a bigraph is accomplished by _reaction rules_, which specify a `redex` showing a bigraph to match and `reactum` that shows the bigraph to replace it by. \n",
    "\n",
    "Here is an example bigraph (showing the system in a \"locked\" state): ![locked](img/reaction-locked.png)"
   ]
  },
  {
   "cell_type": "markdown",
   "id": "2a37daef",
   "metadata": {
    "slideshow": {
     "slide_type": "subslide"
    }
   },
   "source": [
    "### redex\n",
    "\n",
    "When we take that bigraph and match it with this **redex**\n",
    "\n",
    "![redex](img/reaction-redex.png)"
   ]
  },
  {
   "cell_type": "markdown",
   "id": "b38a9ecb",
   "metadata": {
    "slideshow": {
     "slide_type": "subslide"
    }
   },
   "source": [
    "### reactum\n",
    "\n",
    "and substitute with this **reactum**\n",
    "\n",
    "![reactum](img/reaction-reactum.png)"
   ]
  },
  {
   "cell_type": "markdown",
   "id": "010eb7a6",
   "metadata": {
    "slideshow": {
     "slide_type": "subslide"
    }
   },
   "source": [
    "### transition\n",
    "\n",
    "we end up with this result (the key has been \"unlocked\"):\n",
    "\n",
    "![unlocked](img/reaction-unlocked.png)"
   ]
  },
  {
   "cell_type": "markdown",
   "id": "d4b36e79",
   "metadata": {
    "slideshow": {
     "slide_type": "subslide"
    }
   },
   "source": [
    "### full reaction\n",
    "\n",
    "Here is the full reaction from locked to unlocked state:\n",
    "\n",
    "![reaction](img/reaction-example.png)"
   ]
  },
  {
   "cell_type": "code",
   "execution_count": 22,
   "id": "a386d25e",
   "metadata": {
    "slideshow": {
     "slide_type": "skip"
    }
   },
   "outputs": [],
   "source": [
    "from bigraph.bigraph import Bigraph, Control, Node, Edge, Parallel, Merge, Big, InGroup, Condition, Reaction, Range, Assign, Init, Param, RuleGroup, Rules, Preds, System, BigraphicalReactiveSystem, visualize, visualize_transition\n",
    "from bigraph.parse import bigraph"
   ]
  },
  {
   "cell_type": "markdown",
   "id": "06f2c4bc",
   "metadata": {
    "slideshow": {
     "slide_type": "slide"
    }
   },
   "source": [
    "## operations\n",
    "\n",
    "You can build complex bigraphs out of simpler bigraphs using the basic operations:\n",
    "* A.B - *nest* (nesting B inside A)\n",
    "* A | B - *merge* (side by side, but in the same region)\n",
    "* A || B - *parallel* (side by side, different regions)\n",
    "* A{b} - *link* (A is linked to edge b)\n",
    "* A(b) - *parameterize* (A has parameter b)"
   ]
  },
  {
   "cell_type": "markdown",
   "id": "91bc623f",
   "metadata": {
    "slideshow": {
     "slide_type": "slide"
    }
   },
   "source": [
    "## python API\n",
    "\n",
    "You can parse bigraphs from strings into python objects, and you can also build up bigraphs programmatically using the python API. The basic operations are available:"
   ]
  },
  {
   "cell_type": "markdown",
   "id": "fe592865",
   "metadata": {
    "slideshow": {
     "slide_type": "subslide"
    }
   },
   "source": [
    "### nest"
   ]
  },
  {
   "cell_type": "code",
   "execution_count": 23,
   "id": "6ba41252",
   "metadata": {
    "slideshow": {
     "slide_type": "-"
    }
   },
   "outputs": [
    {
     "data": {
      "text/plain": [
       "A.B"
      ]
     },
     "execution_count": 23,
     "metadata": {},
     "output_type": "execute_result"
    }
   ],
   "source": [
    "A = bigraph('A')\n",
    "B = bigraph('B')\n",
    "A.nest(B)"
   ]
  },
  {
   "cell_type": "markdown",
   "id": "a128c900",
   "metadata": {
    "slideshow": {
     "slide_type": "subslide"
    }
   },
   "source": [
    "### merge"
   ]
  },
  {
   "cell_type": "code",
   "execution_count": 24,
   "id": "1725e2f9",
   "metadata": {
    "slideshow": {
     "slide_type": "-"
    }
   },
   "outputs": [
    {
     "data": {
      "text/plain": [
       "A | B"
      ]
     },
     "execution_count": 24,
     "metadata": {},
     "output_type": "execute_result"
    }
   ],
   "source": [
    "A = bigraph('A')\n",
    "B = bigraph('B')\n",
    "Merge([A, B])"
   ]
  },
  {
   "cell_type": "markdown",
   "id": "fd9f1685",
   "metadata": {
    "slideshow": {
     "slide_type": "subslide"
    }
   },
   "source": [
    "### parallel"
   ]
  },
  {
   "cell_type": "code",
   "execution_count": 25,
   "id": "bb8455ac",
   "metadata": {
    "slideshow": {
     "slide_type": "-"
    }
   },
   "outputs": [
    {
     "data": {
      "text/plain": [
       "A || B"
      ]
     },
     "execution_count": 25,
     "metadata": {},
     "output_type": "execute_result"
    }
   ],
   "source": [
    "A = bigraph('A')\n",
    "B = bigraph('B')\n",
    "Parallel([A, B])"
   ]
  },
  {
   "cell_type": "markdown",
   "id": "38be0cae",
   "metadata": {
    "slideshow": {
     "slide_type": "subslide"
    }
   },
   "source": [
    "### link"
   ]
  },
  {
   "cell_type": "code",
   "execution_count": 26,
   "id": "3c95eb9a",
   "metadata": {
    "slideshow": {
     "slide_type": "-"
    }
   },
   "outputs": [
    {
     "data": {
      "text/plain": [
       "A{b}"
      ]
     },
     "execution_count": 26,
     "metadata": {},
     "output_type": "execute_result"
    }
   ],
   "source": [
    "A = bigraph('A')\n",
    "b = Edge('b')\n",
    "A.link(b)"
   ]
  },
  {
   "cell_type": "markdown",
   "id": "cf52c195",
   "metadata": {
    "slideshow": {
     "slide_type": "slide"
    }
   },
   "source": [
    "### parsing\n",
    "\n",
    "To parse a bigraph from a string, use the `bigraph` function:"
   ]
  },
  {
   "cell_type": "code",
   "execution_count": 27,
   "id": "3665952a",
   "metadata": {
    "slideshow": {
     "slide_type": "fragment"
    }
   },
   "outputs": [
    {
     "data": {
      "text/plain": [
       "A.(B | C{m,n})"
      ]
     },
     "execution_count": 27,
     "metadata": {},
     "output_type": "execute_result"
    }
   ],
   "source": [
    "parsed = bigraph('A.(B | C{m, n})')\n",
    "parsed"
   ]
  },
  {
   "cell_type": "markdown",
   "id": "9078ccd8",
   "metadata": {
    "slideshow": {
     "slide_type": "fragment"
    }
   },
   "source": [
    "The python bigraph objects are rendered by default, which mirrors the original form we parsed. "
   ]
  },
  {
   "cell_type": "markdown",
   "id": "0af480a7",
   "metadata": {
    "slideshow": {
     "slide_type": "subslide"
    }
   },
   "source": [
    "We can also build this bigraph programmatically."
   ]
  },
  {
   "cell_type": "code",
   "execution_count": 28,
   "id": "1d60d07c",
   "metadata": {
    "slideshow": {
     "slide_type": "fragment"
    }
   },
   "outputs": [
    {
     "data": {
      "text/plain": [
       "(A, B, C)"
      ]
     },
     "execution_count": 28,
     "metadata": {},
     "output_type": "execute_result"
    }
   ],
   "source": [
    "A = bigraph('A')\n",
    "B = bigraph('B')\n",
    "C = bigraph('C')\n",
    "A, B, C"
   ]
  },
  {
   "cell_type": "code",
   "execution_count": 29,
   "id": "9739c3e5",
   "metadata": {
    "slideshow": {
     "slide_type": "fragment"
    }
   },
   "outputs": [
    {
     "data": {
      "text/plain": [
       "C{m,n}"
      ]
     },
     "execution_count": 29,
     "metadata": {},
     "output_type": "execute_result"
    }
   ],
   "source": [
    "C.link('m')\n",
    "C.link('n')\n",
    "C"
   ]
  },
  {
   "cell_type": "code",
   "execution_count": 30,
   "id": "9d5e0d16",
   "metadata": {
    "slideshow": {
     "slide_type": "fragment"
    }
   },
   "outputs": [
    {
     "data": {
      "text/plain": [
       "B | C{m,n}"
      ]
     },
     "execution_count": 30,
     "metadata": {},
     "output_type": "execute_result"
    }
   ],
   "source": [
    "merge = B.merge(C)\n",
    "merge"
   ]
  },
  {
   "cell_type": "code",
   "execution_count": 31,
   "id": "941ee088",
   "metadata": {
    "slideshow": {
     "slide_type": "fragment"
    }
   },
   "outputs": [
    {
     "data": {
      "text/plain": [
       "A.(B | C{m,n})"
      ]
     },
     "execution_count": 31,
     "metadata": {},
     "output_type": "execute_result"
    }
   ],
   "source": [
    "A.nest(merge)\n",
    "A"
   ]
  },
  {
   "cell_type": "code",
   "execution_count": 32,
   "id": "b56ce817",
   "metadata": {
    "slideshow": {
     "slide_type": "skip"
    }
   },
   "outputs": [
    {
     "data": {
      "text/plain": [
       "'/home/youdonotexist/code/bigraph/notebooks'"
      ]
     },
     "execution_count": 32,
     "metadata": {},
     "output_type": "execute_result"
    }
   ],
   "source": [
    "import os\n",
    "os.getcwd()"
   ]
  },
  {
   "cell_type": "code",
   "execution_count": 33,
   "id": "18e371e9",
   "metadata": {},
   "outputs": [
    {
     "data": {
      "image/svg+xml": [
       "<svg xmlns=\"http://www.w3.org/2000/svg\" xmlns:xlink=\"http://www.w3.org/1999/xlink\" width=\"115pt\" height=\"142pt\" viewBox=\"0.00 0.00 114.50 142.00\">\n",
       "<g id=\"graph0\" class=\"graph\" transform=\"scale(1 1) rotate(0) translate(4 138)\">\n",
       "<title>0.svg</title>\n",
       "<polygon fill=\"white\" stroke=\"transparent\" points=\"-4,4 -4,-138 110.5,-138 110.5,4 -4,4\"/>\n",
       "<!-- r0 -->\n",
       "<g id=\"node1\" class=\"node\">\n",
       "<title>r0</title>\n",
       "<polygon fill=\"none\" stroke=\"black\" stroke-dasharray=\"5,2\" points=\"22,-134 0,-134 0,-116 22,-116 22,-134\"/>\n",
       "<text text-anchor=\"middle\" x=\"11\" y=\"-122.8\" font-family=\"serif\" font-size=\"9.00\">0</text>\n",
       "</g>\n",
       "<!-- v0 -->\n",
       "<g id=\"v0_A\" class=\"node\">\n",
       "<title>v0</title>\n",
       "<ellipse fill=\"none\" stroke=\"black\" cx=\"12\" cy=\"-69\" rx=\"11\" ry=\"11\"/>\n",
       "<text text-anchor=\"middle\" x=\"12\" y=\"-66.8\" font-family=\"sans-serif\" font-size=\"9.00\">A</text>\n",
       "</g>\n",
       "<!-- r0&#45;&gt;v0 -->\n",
       "<g id=\"edge1\" class=\"edge\">\n",
       "<title>r0-&gt;v0</title>\n",
       "<path fill=\"none\" stroke=\"black\" d=\"M11.16,-115.56C11.31,-107.45 11.54,-95.01 11.72,-85.18\"/>\n",
       "<polygon fill=\"black\" stroke=\"black\" points=\"11.81,-80.03 13.97,-85.07 11.77,-82.53 11.72,-85.03 11.72,-85.03 11.72,-85.03 11.77,-82.53 9.47,-84.99 11.81,-80.03 11.81,-80.03\"/>\n",
       "</g>\n",
       "<!-- om -->\n",
       "<g id=\"node2\" class=\"node\">\n",
       "<title>om</title>\n",
       "<text text-anchor=\"middle\" x=\"53\" y=\"-122.8\" font-family=\"serif\" font-size=\"9.00\">m</text>\n",
       "</g>\n",
       "<!-- on -->\n",
       "<g id=\"node3\" class=\"node\">\n",
       "<title>on</title>\n",
       "<text text-anchor=\"middle\" x=\"95\" y=\"-122.8\" font-family=\"serif\" font-size=\"9.00\">n</text>\n",
       "</g>\n",
       "<!-- v1 -->\n",
       "<g id=\"v1_B\" class=\"node\">\n",
       "<title>v1</title>\n",
       "<ellipse fill=\"none\" stroke=\"black\" cx=\"12\" cy=\"-11\" rx=\"11\" ry=\"11\"/>\n",
       "<text text-anchor=\"middle\" x=\"12\" y=\"-8.8\" font-family=\"sans-serif\" font-size=\"9.00\">B</text>\n",
       "</g>\n",
       "<!-- v0&#45;&gt;v1 -->\n",
       "<g id=\"edge2\" class=\"edge\">\n",
       "<title>v0-&gt;v1</title>\n",
       "<path fill=\"none\" stroke=\"black\" d=\"M12,-57.99C12,-49.49 12,-37.17 12,-27.42\"/>\n",
       "<polygon fill=\"black\" stroke=\"black\" points=\"12,-22.3 14.25,-27.3 12,-24.8 12,-27.3 12,-27.3 12,-27.3 12,-24.8 9.75,-27.3 12,-22.3 12,-22.3\"/>\n",
       "</g>\n",
       "<!-- v2 -->\n",
       "<g id=\"v2_C\" class=\"node\">\n",
       "<title>v2</title>\n",
       "<ellipse fill=\"none\" stroke=\"black\" cx=\"53\" cy=\"-11\" rx=\"11\" ry=\"11\"/>\n",
       "<text text-anchor=\"middle\" x=\"53\" y=\"-8.8\" font-family=\"sans-serif\" font-size=\"9.00\">C</text>\n",
       "</g>\n",
       "<!-- v0&#45;&gt;v2 -->\n",
       "<g id=\"edge3\" class=\"edge\">\n",
       "<title>v0-&gt;v2</title>\n",
       "<path fill=\"none\" stroke=\"black\" d=\"M18.05,-59.74C24.83,-50.47 35.91,-35.34 43.77,-24.6\"/>\n",
       "<polygon fill=\"black\" stroke=\"black\" points=\"46.93,-20.3 45.79,-25.66 45.45,-22.31 43.97,-24.33 43.97,-24.33 43.97,-24.33 45.45,-22.31 42.16,-23 46.93,-20.3 46.93,-20.3\"/>\n",
       "</g>\n",
       "<!-- v2&#45;&gt;om -->\n",
       "<g id=\"edge4\" class=\"edge\">\n",
       "<title>v2-&gt;om</title>\n",
       "<path fill=\"none\" stroke=\"green\" d=\"M53,-22.2C53,-44.25 53,-95.98 53,-115.95\"/>\n",
       "</g>\n",
       "<!-- v2&#45;&gt;on -->\n",
       "<g id=\"edge5\" class=\"edge\">\n",
       "<title>v2-&gt;on</title>\n",
       "<path fill=\"none\" stroke=\"green\" d=\"M56.58,-21.54C64.7,-43.2 84.42,-95.78 91.98,-115.95\"/>\n",
       "</g>\n",
       "</g>\n",
       "</svg>"
      ],
      "text/plain": [
       "<IPython.core.display.SVG object>"
      ]
     },
     "metadata": {},
     "output_type": "display_data"
    }
   ],
   "source": [
    "visualize(A)"
   ]
  },
  {
   "cell_type": "markdown",
   "id": "fcadd591",
   "metadata": {
    "slideshow": {
     "slide_type": "skip"
    }
   },
   "source": [
    "TODO: show rendered results from running the system\n",
    "\n",
    "TODO: render bigraphs in a nested way"
   ]
  },
  {
   "cell_type": "markdown",
   "id": "072bebd0",
   "metadata": {
    "slideshow": {
     "slide_type": "slide"
    }
   },
   "source": [
    "## controls\n",
    "\n",
    "Controls are a way to label nodes, giving it a kind of \"type\" which declares:\n",
    "- **symbol** - the label given by this control\n",
    "- **arity** - how many ports it has (where edges can connect)\n",
    "- **fun** - any parameters nodes of this control may have\n",
    "- **atomic** - whether it can have subnodes or not"
   ]
  },
  {
   "cell_type": "markdown",
   "id": "d309fdd5",
   "metadata": {
    "slideshow": {
     "slide_type": "fragment"
    }
   },
   "source": [
    "Here is an example of a control with an arity of 2:"
   ]
  },
  {
   "cell_type": "code",
   "execution_count": 34,
   "id": "c6c46b6d",
   "metadata": {},
   "outputs": [
    {
     "data": {
      "text/plain": [
       "('A', 2)"
      ]
     },
     "execution_count": 34,
     "metadata": {},
     "output_type": "execute_result"
    }
   ],
   "source": [
    "A = bigraph('ctrl A = 2')\n",
    "A.symbol, A.arity"
   ]
  },
  {
   "cell_type": "markdown",
   "id": "17233a6e",
   "metadata": {
    "slideshow": {
     "slide_type": "fragment"
    }
   },
   "source": [
    "Here is another control with named parameters:"
   ]
  },
  {
   "cell_type": "code",
   "execution_count": 35,
   "id": "0c5dd538",
   "metadata": {},
   "outputs": [
    {
     "data": {
      "text/plain": [
       "('Compartment', 1, ('volume', 'state'))"
      ]
     },
     "execution_count": 35,
     "metadata": {},
     "output_type": "execute_result"
    }
   ],
   "source": [
    "C = bigraph('fun ctrl Compartment(volume, state) = 1')\n",
    "C.symbol, C.arity, C.fun"
   ]
  },
  {
   "cell_type": "markdown",
   "id": "c75e415a",
   "metadata": {
    "slideshow": {
     "slide_type": "subslide"
    }
   },
   "source": [
    "### nodes and controls\n",
    "\n",
    "Controls give us a more principled way to create nodes, and provide a way to structure our systems and guide reactions to target specific elements."
   ]
  },
  {
   "cell_type": "code",
   "execution_count": 36,
   "id": "658c4ab7",
   "metadata": {
    "slideshow": {
     "slide_type": "fragment"
    }
   },
   "outputs": [
    {
     "data": {
      "text/plain": [
       "(Compartment(0.3,stable){atp}, Compartment(11.1111,active){chromosome})"
      ]
     },
     "execution_count": 36,
     "metadata": {},
     "output_type": "execute_result"
    }
   ],
   "source": [
    "C1 = Node(control=C, params=(0.3, \"stable\"), ports=('atp',))\n",
    "C2 = Node(control=C, params=(11.1111, \"active\"), ports=('chromosome',))\n",
    "C1, C2"
   ]
  },
  {
   "cell_type": "markdown",
   "id": "c17e9ae1",
   "metadata": {
    "slideshow": {
     "slide_type": "fragment"
    }
   },
   "source": [
    "We can even assign parameters this way"
   ]
  },
  {
   "cell_type": "code",
   "execution_count": 37,
   "id": "6eaaa99c",
   "metadata": {},
   "outputs": [
    {
     "data": {
      "text/plain": [
       "Compartment(0.4,stable){atp}"
      ]
     },
     "execution_count": 37,
     "metadata": {},
     "output_type": "execute_result"
    }
   ],
   "source": [
    "C1.assign('volume', 0.4)"
   ]
  },
  {
   "cell_type": "markdown",
   "id": "0f36973a",
   "metadata": {
    "slideshow": {
     "slide_type": "slide"
    }
   },
   "source": [
    "## reactions"
   ]
  },
  {
   "cell_type": "code",
   "execution_count": 38,
   "id": "c66e6d5f",
   "metadata": {
    "slideshow": {
     "slide_type": "skip"
    }
   },
   "outputs": [
    {
     "data": {
      "image/svg+xml": [
       "<svg xmlns=\"http://www.w3.org/2000/svg\" xmlns:xlink=\"http://www.w3.org/1999/xlink\" width=\"207pt\" height=\"237pt\" viewBox=\"0.00 0.00 206.50 237.00\">\n",
       "<g id=\"graph0\" class=\"graph\" transform=\"scale(1 1) rotate(0) translate(4 233)\">\n",
       "<title>0.svg</title>\n",
       "<polygon fill=\"white\" stroke=\"transparent\" points=\"-4,4 -4,-233 202.5,-233 202.5,4 -4,4\"/>\n",
       "<!-- r0 -->\n",
       "<g id=\"node1\" class=\"node\">\n",
       "<title>r0</title>\n",
       "<polygon fill=\"none\" stroke=\"black\" stroke-dasharray=\"5,2\" points=\"122.5,-229 100.5,-229 100.5,-211 122.5,-211 122.5,-229\"/>\n",
       "<text text-anchor=\"middle\" x=\"111.5\" y=\"-217.8\" font-family=\"serif\" font-size=\"9.00\">0</text>\n",
       "</g>\n",
       "<!-- v0 -->\n",
       "<g id=\"v0_A\" class=\"node\">\n",
       "<title>v0</title>\n",
       "<ellipse fill=\"none\" stroke=\"black\" cx=\"110.5\" cy=\"-127\" rx=\"11\" ry=\"11\"/>\n",
       "<text text-anchor=\"middle\" x=\"110.5\" y=\"-124.8\" font-family=\"sans-serif\" font-size=\"9.00\">A</text>\n",
       "</g>\n",
       "<!-- r0&#45;&gt;v0 -->\n",
       "<g id=\"edge1\" class=\"edge\">\n",
       "<title>r0-&gt;v0</title>\n",
       "<path fill=\"none\" stroke=\"black\" d=\"M111.41,-210.92C111.24,-195.74 110.88,-162.7 110.67,-143.22\"/>\n",
       "<polygon fill=\"black\" stroke=\"black\" points=\"110.61,-138.11 112.92,-143.08 110.64,-140.61 110.67,-143.11 110.67,-143.11 110.67,-143.11 110.64,-140.61 108.42,-143.13 110.61,-138.11 110.61,-138.11\"/>\n",
       "</g>\n",
       "<!-- om -->\n",
       "<g id=\"node2\" class=\"node\">\n",
       "<title>om</title>\n",
       "<text text-anchor=\"middle\" x=\"12.5\" y=\"-217.8\" font-family=\"serif\" font-size=\"9.00\">m</text>\n",
       "</g>\n",
       "<!-- e0 -->\n",
       "<g id=\"node5\" class=\"node\">\n",
       "<title>e0</title>\n",
       "</g>\n",
       "<!-- om&#45;&gt;e0 -->\n",
       "<g id=\"edge5\" class=\"edge\">\n",
       "<title>om-&gt;e0</title>\n",
       "<path fill=\"none\" stroke=\"green\" d=\"M12.5,-210.93C12.5,-198.23 12.5,-175 12.5,-175\"/>\n",
       "</g>\n",
       "<!-- on -->\n",
       "<g id=\"node3\" class=\"node\">\n",
       "<title>on</title>\n",
       "<text text-anchor=\"middle\" x=\"70.5\" y=\"-217.8\" font-family=\"serif\" font-size=\"9.00\">n</text>\n",
       "</g>\n",
       "<!-- e1 -->\n",
       "<g id=\"node6\" class=\"node\">\n",
       "<title>e1</title>\n",
       "</g>\n",
       "<!-- on&#45;&gt;e1 -->\n",
       "<g id=\"edge8\" class=\"edge\">\n",
       "<title>on-&gt;e1</title>\n",
       "<path fill=\"none\" stroke=\"green\" d=\"M70.5,-210.92C70.5,-188.65 70.5,-128 70.5,-128\"/>\n",
       "</g>\n",
       "<!-- oo -->\n",
       "<g id=\"node4\" class=\"node\">\n",
       "<title>oo</title>\n",
       "<text text-anchor=\"middle\" x=\"187.5\" y=\"-217.8\" font-family=\"serif\" font-size=\"9.00\">o</text>\n",
       "</g>\n",
       "<!-- e0&#45;&gt;v0 -->\n",
       "<g id=\"edge6\" class=\"edge\">\n",
       "<title>e0-&gt;v0</title>\n",
       "<path fill=\"none\" stroke=\"green\" d=\"M12.5,-174C12.5,-174 75.96,-144.21 100.75,-132.58\"/>\n",
       "</g>\n",
       "<!-- v2 -->\n",
       "<g id=\"v2_B(3,14)\" class=\"node\">\n",
       "<title>v2</title>\n",
       "<ellipse fill=\"none\" stroke=\"black\" cx=\"33.5\" cy=\"-11\" rx=\"32.5\" ry=\"11\"/>\n",
       "<text text-anchor=\"middle\" x=\"33.5\" y=\"-8.8\" font-family=\"sans-serif\" font-size=\"9.00\">B(3,14)</text>\n",
       "</g>\n",
       "<!-- e0&#45;&gt;v2 -->\n",
       "<g id=\"edge7\" class=\"edge\">\n",
       "<title>e0-&gt;v2</title>\n",
       "<path fill=\"none\" stroke=\"green\" d=\"M12.5,-174C12.5,-174 27.59,-57.6 32.19,-22.13\"/>\n",
       "</g>\n",
       "<!-- v1 -->\n",
       "<g id=\"v1_A\" class=\"node\">\n",
       "<title>v1</title>\n",
       "<ellipse fill=\"none\" stroke=\"black\" cx=\"110.5\" cy=\"-69\" rx=\"11\" ry=\"11\"/>\n",
       "<text text-anchor=\"middle\" x=\"110.5\" y=\"-66.8\" font-family=\"sans-serif\" font-size=\"9.00\">A</text>\n",
       "</g>\n",
       "<!-- e1&#45;&gt;v1 -->\n",
       "<g id=\"edge9\" class=\"edge\">\n",
       "<title>e1-&gt;v1</title>\n",
       "<path fill=\"none\" stroke=\"green\" d=\"M70.5,-126C70.5,-126 93,-94.5 104.25,-78.75\"/>\n",
       "</g>\n",
       "<!-- e1&#45;&gt;v2 -->\n",
       "<g id=\"edge10\" class=\"edge\">\n",
       "<title>e1-&gt;v2</title>\n",
       "<path fill=\"none\" stroke=\"green\" d=\"M70.5,-126C70.5,-126 45.84,-50.02 36.78,-22.12\"/>\n",
       "</g>\n",
       "<!-- v3 -->\n",
       "<g id=\"v3_B(11,13)\" class=\"node\">\n",
       "<title>v3</title>\n",
       "<ellipse fill=\"none\" stroke=\"black\" cx=\"149.5\" cy=\"-11\" rx=\"36\" ry=\"11\"/>\n",
       "<text text-anchor=\"middle\" x=\"149.5\" y=\"-8.8\" font-family=\"sans-serif\" font-size=\"9.00\">B(11,13)</text>\n",
       "</g>\n",
       "<!-- e1&#45;&gt;v3 -->\n",
       "<g id=\"edge11\" class=\"edge\">\n",
       "<title>e1-&gt;v3</title>\n",
       "<path fill=\"none\" stroke=\"green\" d=\"M70.5,-126C70.5,-126 72.78,-84.05 90.5,-58 101.46,-41.89 119.83,-28.87 133.17,-20.84\"/>\n",
       "</g>\n",
       "<!-- v0&#45;&gt;v1 -->\n",
       "<g id=\"edge2\" class=\"edge\">\n",
       "<title>v0-&gt;v1</title>\n",
       "<path fill=\"none\" stroke=\"black\" d=\"M110.5,-115.99C110.5,-107.49 110.5,-95.17 110.5,-85.42\"/>\n",
       "<polygon fill=\"black\" stroke=\"black\" points=\"110.5,-80.3 112.75,-85.3 110.5,-82.8 110.5,-85.3 110.5,-85.3 110.5,-85.3 110.5,-82.8 108.25,-85.3 110.5,-80.3 110.5,-80.3\"/>\n",
       "</g>\n",
       "<!-- v0&#45;&gt;v3 -->\n",
       "<g id=\"edge3\" class=\"edge\">\n",
       "<title>v0-&gt;v3</title>\n",
       "<path fill=\"none\" stroke=\"black\" d=\"M115.02,-116.64C119.36,-107.45 125.89,-92.97 130.5,-80 136.8,-62.26 142.38,-41.32 145.84,-27.42\"/>\n",
       "<polygon fill=\"black\" stroke=\"black\" points=\"147.1,-22.27 148.09,-27.67 146.5,-24.7 145.91,-27.13 145.91,-27.13 145.91,-27.13 146.5,-24.7 143.72,-26.6 147.1,-22.27 147.1,-22.27\"/>\n",
       "</g>\n",
       "<!-- v1&#45;&gt;v2 -->\n",
       "<g id=\"edge4\" class=\"edge\">\n",
       "<title>v1-&gt;v2</title>\n",
       "<path fill=\"none\" stroke=\"black\" d=\"M101.97,-61.79C89.58,-52.79 66.37,-35.91 50.44,-24.32\"/>\n",
       "<polygon fill=\"black\" stroke=\"black\" points=\"46.15,-21.2 51.52,-22.32 48.17,-22.67 50.2,-24.14 50.2,-24.14 50.2,-24.14 48.17,-22.67 48.87,-25.96 46.15,-21.2 46.15,-21.2\"/>\n",
       "</g>\n",
       "<!-- v3&#45;&gt;oo -->\n",
       "<g id=\"edge12\" class=\"edge\">\n",
       "<title>v3-&gt;oo</title>\n",
       "<path fill=\"none\" stroke=\"green\" d=\"M151.37,-22.18C157.96,-58.1 180.06,-178.44 186.01,-210.89\"/>\n",
       "</g>\n",
       "</g>\n",
       "</svg>"
      ],
      "text/plain": [
       "<IPython.core.display.SVG object>"
      ]
     },
     "metadata": {},
     "output_type": "display_data"
    }
   ],
   "source": [
    "visualize_transition(0, '../out/test/validate') # TODO figure out how to return a svg/png"
   ]
  },
  {
   "cell_type": "markdown",
   "id": "476a77db",
   "metadata": {
    "slideshow": {
     "slide_type": "subslide"
    }
   },
   "source": [
    "### specifying reaction rules\n",
    "\n"
   ]
  },
  {
   "cell_type": "markdown",
   "id": "5c6bf79e",
   "metadata": {
    "slideshow": {
     "slide_type": "subslide"
    }
   },
   "source": [
    "### applying a reaction rule to a bigraph"
   ]
  },
  {
   "cell_type": "markdown",
   "id": "8bbccbaa",
   "metadata": {
    "slideshow": {
     "slide_type": "slide"
    }
   },
   "source": [
    "## reactive systems"
   ]
  },
  {
   "cell_type": "markdown",
   "id": "507b796e",
   "metadata": {
    "slideshow": {
     "slide_type": "subslide"
    }
   },
   "source": [
    "### declaring a reactive system"
   ]
  },
  {
   "cell_type": "markdown",
   "id": "56ddbd56",
   "metadata": {
    "slideshow": {
     "slide_type": "subslide"
    }
   },
   "source": [
    "### execute the system"
   ]
  },
  {
   "cell_type": "markdown",
   "id": "983a37a2",
   "metadata": {
    "slideshow": {
     "slide_type": "subslide"
    }
   },
   "source": [
    "### observing the transitions"
   ]
  }
 ],
 "metadata": {
  "celltoolbar": "Slideshow",
  "kernelspec": {
   "display_name": "Python 3 (ipykernel)",
   "language": "python",
   "name": "python3"
  },
  "language_info": {
   "codemirror_mode": {
    "name": "ipython",
    "version": 3
   },
   "file_extension": ".py",
   "mimetype": "text/x-python",
   "name": "python",
   "nbconvert_exporter": "python",
   "pygments_lexer": "ipython3",
   "version": "3.8.5"
  }
 },
 "nbformat": 4,
 "nbformat_minor": 5
}
