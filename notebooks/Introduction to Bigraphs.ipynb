{
 "cells": [
  {
   "cell_type": "markdown",
   "id": "bef039a4",
   "metadata": {},
   "source": [
    "# Introduction to Bigraphs\n",
    "\n",
    "Bigraphs are great"
   ]
  },
  {
   "cell_type": "code",
   "execution_count": 1,
   "id": "02ed4b32",
   "metadata": {
    "scrolled": false
   },
   "outputs": [],
   "source": [
    "import os\n",
    "os.chdir('../bigraph')"
   ]
  },
  {
   "cell_type": "code",
   "execution_count": 4,
   "id": "a386d25e",
   "metadata": {},
   "outputs": [],
   "source": [
    "from bigraph import Bigraph, Control, Node, Edge, Parallel, Merge, Big, InGroup, Condition, Reaction, Range, Assign, Init, Param, RuleGroup, Rules, Preds, System, BigraphicalReactiveSystem\n",
    "from parse import parse_expression"
   ]
  },
  {
   "cell_type": "markdown",
   "id": "06f2c4bc",
   "metadata": {},
   "source": [
    "## syntax\n",
    "\n",
    "The bigraph syntax is as follows"
   ]
  },
  {
   "cell_type": "code",
   "execution_count": 6,
   "id": "6ba41252",
   "metadata": {},
   "outputs": [
    {
     "data": {
      "text/plain": [
       "A.(B | C{p})"
      ]
     },
     "execution_count": 6,
     "metadata": {},
     "output_type": "execute_result"
    }
   ],
   "source": [
    "sample = 'A.(B | C{p})'\n",
    "parse_expression(sample)"
   ]
  },
  {
   "cell_type": "markdown",
   "id": "fcadd591",
   "metadata": {},
   "source": [
    "TODO: show rendered results from running the system\n",
    "\n",
    "TODO: render bigraphs in a nested way"
   ]
  },
  {
   "cell_type": "code",
   "execution_count": null,
   "id": "40b177e6",
   "metadata": {},
   "outputs": [],
   "source": []
  }
 ],
 "metadata": {
  "kernelspec": {
   "display_name": "Python 3 (ipykernel)",
   "language": "python",
   "name": "python3"
  },
  "language_info": {
   "codemirror_mode": {
    "name": "ipython",
    "version": 3
   },
   "file_extension": ".py",
   "mimetype": "text/x-python",
   "name": "python",
   "nbconvert_exporter": "python",
   "pygments_lexer": "ipython3",
   "version": "3.10.4"
  }
 },
 "nbformat": 4,
 "nbformat_minor": 5
}
